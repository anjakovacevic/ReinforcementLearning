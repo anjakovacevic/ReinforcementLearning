{
 "cells": [
  {
   "cell_type": "markdown",
   "id": "e3ac708a-c4f8-4535-8b4c-ee17cbaa0a52",
   "metadata": {},
   "source": [
    "# Blackjack "
   ]
  },
  {
   "cell_type": "markdown",
   "id": "22368046-207f-4ede-b38e-86380a439928",
   "metadata": {},
   "source": [
    "We consider a slightly simplified version of **blackjack** in which a **player** plays against the **dealer**. Both agents (**player** and **dealer**) start with a single card. The **player** first take his turns, and then (once the player is finished) the **dealer** may play (unless the player was _busted_, in which case the dealer authomatically wins, and need not play).\n",
    "\n",
    "In each turn, an agent may choose two actions: **HIT** or **HOLD**. By choosing **HIT**, the agent is asking for one more card from the deck. By choosing **HOLD**, the agent finishes his turn without drawing an additional card.\n",
    "\n",
    "The agent **total** is the sum of **values** of all cards the agent has drawn, including the initial card handed to it on the start of the game. The \"small cards\" (2, 3, 4, ..., 9, 10) have the value equal to their number. The \"face cards\" (J, Q, K) have value 10. Ace (A) can have two values: 1 or 11, depending on the choice of the agent.\n",
    "\n",
    "THE GOAL OF THE GAME IS TO HAVE THE HIGHEST TOTAL NOT BIGGER THAN 21. If an agent achieves the total bigger than 21 it losses the game (we say that the agent is _busted_ in this case). More precisely:\n",
    "\n",
    "* If the player is busted, dealer wins.\n",
    "* If the players is not busted, then:\n",
    "  - If the dealer is busted, player wins.\n",
    "  - If the dealer is not busted, the agent with the highest total wins.\n",
    "  - In case that neither agent is busted, and both have the same total, the game is draw.\n",
    " \n",
    "Upon playing each game, the wining agent receives reward +1, the losing agent receives -1. If the game is draw, both agents receive 0. The reward is given only when the game is over. No reward is received after non-terminating actions (the reward following those actions is 0)."
   ]
  },
  {
   "cell_type": "markdown",
   "id": "116c2314-010d-4f6e-ba63-43f29d503191",
   "metadata": {},
   "source": [
    "<div class=\"alert alert-block alert-info\">\n",
    "<b>The Assignment:</b> \n",
    "Train a bot able to play blackjack agains the dealer.\n",
    "</div>"
   ]
  },
  {
   "cell_type": "markdown",
   "id": "ffc0e0b8-a577-4d47-8712-a9a2a75c1a78",
   "metadata": {},
   "source": [
    "<div class=\"alert alert-block alert-warning\">\n",
    "<b>Dealer strategy:</b> \n",
    "    Assume that the dealer is playing according to a fixed strategy: Choose HIT as long as the dealer total is not above 17, otherwise choose HOLD.\n",
    "</div>"
   ]
  },
  {
   "cell_type": "markdown",
   "id": "4ccc8714-e0bb-4bb5-9151-2194a3eb520e",
   "metadata": {},
   "source": [
    "## Basic Imports"
   ]
  },
  {
   "cell_type": "code",
   "execution_count": 3,
   "id": "33fa7810-881e-4c53-994c-a5c954a71861",
   "metadata": {},
   "outputs": [],
   "source": [
    "from enum import Enum\n",
    "from dataclasses import dataclass, astuple\n",
    "from typing import Callable\n",
    "from random import random, randint\n",
    "from copy import deepcopy\n",
    "\n",
    "from tqdm import trange\n",
    "from rich import print\n",
    "\n",
    "import numpy as np\n",
    "import matplotlib.pyplot as plt"
   ]
  },
  {
   "cell_type": "markdown",
   "id": "26b4cd3f-7662-4aff-80fc-45062ed16274",
   "metadata": {},
   "source": [
    "## Cards and Decks of Cards"
   ]
  },
  {
   "cell_type": "markdown",
   "id": "211076b6-844d-4e3a-a587-7d10f25a3a11",
   "metadata": {},
   "source": [
    "Let us first implement cards and decks of cards."
   ]
  },
  {
   "cell_type": "code",
   "execution_count": 4,
   "id": "6e4c95bc-79b8-4598-a626-d3a2fe20d3b1",
   "metadata": {},
   "outputs": [],
   "source": [
    "class CardSuit(Enum):\n",
    "    \"\"\"An enumeration representing card suits.\"\"\"\n",
    "    \n",
    "    DIAMONDS = 0\n",
    "    CLUBS = 1\n",
    "    HEARTS = 2\n",
    "    SPADES = 3\n",
    "\n",
    "    def __repr__(self):\n",
    "        match self:\n",
    "            case CardSuit.DIAMONDS:\n",
    "                return \"♦\"\n",
    "            case CardSuit.CLUBS:\n",
    "                return \"♣\"\n",
    "            case CardSuit.HEARTS:\n",
    "                return \"♥\"\n",
    "            case CardSuit.SPADES:\n",
    "                return \"♠\""
   ]
  },
  {
   "cell_type": "code",
   "execution_count": 5,
   "id": "7435ec76-6263-4e6f-a70c-bbc9e42e4ef1",
   "metadata": {},
   "outputs": [],
   "source": [
    "class CardValue(Enum):\n",
    "    \"\"\"An enumeration representing card values.\"\"\"\n",
    "\n",
    "    ACE = 1\n",
    "    TWO = 2\n",
    "    THREE = 3\n",
    "    FOUR = 4\n",
    "    FIVE = 5\n",
    "    SIX = 6\n",
    "    SEVEN = 7\n",
    "    EIGHT = 8\n",
    "    NINE = 9\n",
    "    TEN = 10\n",
    "    JACK = 12\n",
    "    DAME = 13\n",
    "    KING = 14\n",
    "\n",
    "    def __repr__(self):\n",
    "        if self == CardValue.ACE:\n",
    "            return \"A\"\n",
    "        elif self.value >= 2 and self.value <= 10:\n",
    "            return str(self.value)\n",
    "        elif self == CardValue.JACK:\n",
    "            return \"J\"\n",
    "        elif self == CardValue.DAME:\n",
    "            return \"D\"\n",
    "        elif self == CardValue.KING:\n",
    "            return \"K\""
   ]
  },
  {
   "cell_type": "markdown",
   "id": "292cbd37-5851-4c19-baf7-6ead045e3517",
   "metadata": {},
   "source": [
    "A card is completely defined by a combination of face and suit. We could implement cards as tuples. However, we will implement a separate class for this, solely in order to have a nice, natural representation of cards as string.\n",
    "\n",
    "To get the best of both worlds, we will create a card class a _dataclass_!"
   ]
  },
  {
   "cell_type": "code",
   "execution_count": 6,
   "id": "b5ccaab7-6828-4111-9cc0-196f3bb8cb3e",
   "metadata": {},
   "outputs": [],
   "source": [
    "@dataclass\n",
    "class Card:\n",
    "    \"\"\"A playing card.\"\"\"\n",
    "    value: CardValue\n",
    "    suit: CardSuit\n",
    "\n",
    "    def __repr__(self):\n",
    "        return f\"{repr(self.value)}{repr(self.suit)}\""
   ]
  },
  {
   "cell_type": "markdown",
   "id": "f94f9c11-972a-4d48-bd66-fb8a43f8f991",
   "metadata": {},
   "source": [
    "Just to illustrate, let us create a card and see how nicely it is written to the console."
   ]
  },
  {
   "cell_type": "code",
   "execution_count": 7,
   "id": "8717cc22-406c-4d60-a488-08cd2d5c8332",
   "metadata": {},
   "outputs": [
    {
     "data": {
      "text/plain": [
       "A♥"
      ]
     },
     "execution_count": 7,
     "metadata": {},
     "output_type": "execute_result"
    }
   ],
   "source": [
    "Card(value=CardValue.ACE, suit=CardSuit.HEARTS)"
   ]
  },
  {
   "cell_type": "markdown",
   "id": "3e9557e4-31ac-4068-971b-12e25b416a4c",
   "metadata": {},
   "source": [
    "Once we have implemented individual cards, we may proceede to implement a deck."
   ]
  },
  {
   "cell_type": "code",
   "execution_count": 8,
   "id": "9f325133-0b5b-44c9-a140-1f8eff3e04bc",
   "metadata": {},
   "outputs": [],
   "source": [
    "class CardDeck:\n",
    "    \"\"\"A deck of cards.\n",
    "\n",
    "    The deck contains 52 playing cards, which are shuffled and drawn consecutively.\n",
    "    Once all cards have been drawn, the deck reshuffles automatically.\n",
    "    \"\"\"\n",
    "\n",
    "    def reshuffle(self):\n",
    "        \"\"\"Refill the deck with all playing cards and reshuffle it.\"\"\"\n",
    "        self.cards = self.multiplicity * [Card(value=v, suit=s) \n",
    "                                          for v in iter(CardValue) \n",
    "                                          for s in iter(CardSuit)]\n",
    "        np.random.shuffle(self.cards) \n",
    "\n",
    "    def __init__(self, multiplicity=5):\n",
    "        \"\"\"Create a shuffled deck of cards.\n",
    "        \n",
    "        Args:\n",
    "            multiplicity (int): The number of 52-card sets to put inside a deck.\n",
    "        \"\"\"\n",
    "        self.multiplicity = multiplicity\n",
    "        self.reshuffle()\n",
    "\n",
    "    def draw(self):\n",
    "        \"\"\"Draw a card from the deck.\n",
    "\n",
    "        Once drawn, the card is removed from the deck. Once there are no more cards inside,\n",
    "        the deck will automatically refill and reshuffle.\n",
    "        \"\"\"\n",
    "        if not self.cards:\n",
    "            self.reshuffle()\n",
    "        return self.cards.pop(0)"
   ]
  },
  {
   "cell_type": "code",
   "execution_count": 9,
   "id": "5a59b26d-471d-4025-a8a8-d4b90a44e09a",
   "metadata": {},
   "outputs": [
    {
     "data": {
      "text/html": [
       "<pre style=\"white-space:pre;overflow-x:auto;line-height:normal;font-family:Menlo,'DejaVu Sans Mono',consolas,'Courier New',monospace\"><span style=\"color: #008080; text-decoration-color: #008080; font-weight: bold\">4</span>♠, D♦, K♥, <span style=\"color: #008080; text-decoration-color: #008080; font-weight: bold\">10</span>♥, <span style=\"color: #008080; text-decoration-color: #008080; font-weight: bold\">2</span>♠, <span style=\"color: #008080; text-decoration-color: #008080; font-weight: bold\">2</span>♣, D♠, <span style=\"color: #008080; text-decoration-color: #008080; font-weight: bold\">10</span>♦, <span style=\"color: #008080; text-decoration-color: #008080; font-weight: bold\">8</span>♥, <span style=\"color: #008080; text-decoration-color: #008080; font-weight: bold\">8</span>♠, <span style=\"color: #008080; text-decoration-color: #008080; font-weight: bold\">5</span>♣, D♣, J♣, A♥, <span style=\"color: #008080; text-decoration-color: #008080; font-weight: bold\">6</span>♦, <span style=\"color: #008080; text-decoration-color: #008080; font-weight: bold\">9</span>♠, <span style=\"color: #008080; text-decoration-color: #008080; font-weight: bold\">6</span>♥, D♥, <span style=\"color: #008080; text-decoration-color: #008080; font-weight: bold\">6</span>♣, <span style=\"color: #008080; text-decoration-color: #008080; font-weight: bold\">6</span>♣, <span style=\"color: #008080; text-decoration-color: #008080; font-weight: bold\">8</span>♥, <span style=\"color: #008080; text-decoration-color: #008080; font-weight: bold\">8</span>♣, A♣, <span style=\"color: #008080; text-decoration-color: #008080; font-weight: bold\">10</span>♣, <span style=\"color: #008080; text-decoration-color: #008080; font-weight: bold\">5</span>♦, <span style=\"color: #008080; text-decoration-color: #008080; font-weight: bold\">4</span>♦, <span style=\"color: #008080; text-decoration-color: #008080; font-weight: bold\">5</span>♦, <span style=\"color: #008080; text-decoration-color: #008080; font-weight: bold\">7</span>♥, \n",
       "<span style=\"color: #008080; text-decoration-color: #008080; font-weight: bold\">6</span>♠, A♠, <span style=\"color: #008080; text-decoration-color: #008080; font-weight: bold\">7</span>♣, <span style=\"color: #008080; text-decoration-color: #008080; font-weight: bold\">7</span>♦, <span style=\"color: #008080; text-decoration-color: #008080; font-weight: bold\">3</span>♣, <span style=\"color: #008080; text-decoration-color: #008080; font-weight: bold\">10</span>♥, K♠, <span style=\"color: #008080; text-decoration-color: #008080; font-weight: bold\">6</span>♣, K♣, <span style=\"color: #008080; text-decoration-color: #008080; font-weight: bold\">2</span>♦, <span style=\"color: #008080; text-decoration-color: #008080; font-weight: bold\">3</span>♣, K♠, <span style=\"color: #008080; text-decoration-color: #008080; font-weight: bold\">3</span>♦, <span style=\"color: #008080; text-decoration-color: #008080; font-weight: bold\">10</span>♠, A♠, <span style=\"color: #008080; text-decoration-color: #008080; font-weight: bold\">3</span>♠, <span style=\"color: #008080; text-decoration-color: #008080; font-weight: bold\">4</span>♥, <span style=\"color: #008080; text-decoration-color: #008080; font-weight: bold\">9</span>♣, A♥, <span style=\"color: #008080; text-decoration-color: #008080; font-weight: bold\">9</span>♦, <span style=\"color: #008080; text-decoration-color: #008080; font-weight: bold\">8</span>♠, <span style=\"color: #008080; text-decoration-color: #008080; font-weight: bold\">6</span>♥, K♣, A♣, <span style=\"color: #008080; text-decoration-color: #008080; font-weight: bold\">9</span>♣, <span style=\"color: #008080; text-decoration-color: #008080; font-weight: bold\">10</span>♣, <span style=\"color: #008080; text-decoration-color: #008080; font-weight: bold\">5</span>♥, <span style=\"color: #008080; text-decoration-color: #008080; font-weight: bold\">6</span>♠, \n",
       "<span style=\"color: #008080; text-decoration-color: #008080; font-weight: bold\">9</span>♥, J♣, K♠, <span style=\"color: #008080; text-decoration-color: #008080; font-weight: bold\">5</span>♠, <span style=\"color: #008080; text-decoration-color: #008080; font-weight: bold\">3</span>♦, <span style=\"color: #008080; text-decoration-color: #008080; font-weight: bold\">10</span>♣, <span style=\"color: #008080; text-decoration-color: #008080; font-weight: bold\">4</span>♥, <span style=\"color: #008080; text-decoration-color: #008080; font-weight: bold\">2</span>♥, <span style=\"color: #008080; text-decoration-color: #008080; font-weight: bold\">6</span>♣, <span style=\"color: #008080; text-decoration-color: #008080; font-weight: bold\">6</span>♦, <span style=\"color: #008080; text-decoration-color: #008080; font-weight: bold\">9</span>♦, <span style=\"color: #008080; text-decoration-color: #008080; font-weight: bold\">9</span>♣, <span style=\"color: #008080; text-decoration-color: #008080; font-weight: bold\">8</span>♥, D♦, <span style=\"color: #008080; text-decoration-color: #008080; font-weight: bold\">8</span>♦, <span style=\"color: #008080; text-decoration-color: #008080; font-weight: bold\">10</span>♦, <span style=\"color: #008080; text-decoration-color: #008080; font-weight: bold\">7</span>♥, <span style=\"color: #008080; text-decoration-color: #008080; font-weight: bold\">9</span>♦, <span style=\"color: #008080; text-decoration-color: #008080; font-weight: bold\">3</span>♥, <span style=\"color: #008080; text-decoration-color: #008080; font-weight: bold\">7</span>♣, <span style=\"color: #008080; text-decoration-color: #008080; font-weight: bold\">2</span>♣, <span style=\"color: #008080; text-decoration-color: #008080; font-weight: bold\">8</span>♦, <span style=\"color: #008080; text-decoration-color: #008080; font-weight: bold\">9</span>♠, J♦, <span style=\"color: #008080; text-decoration-color: #008080; font-weight: bold\">4</span>♣, <span style=\"color: #008080; text-decoration-color: #008080; font-weight: bold\">5</span>♠, <span style=\"color: #008080; text-decoration-color: #008080; font-weight: bold\">8</span>♣, <span style=\"color: #008080; text-decoration-color: #008080; font-weight: bold\">6</span>♣, \n",
       "A♦, J♦, D♠, D♥, <span style=\"color: #008080; text-decoration-color: #008080; font-weight: bold\">9</span>♦, <span style=\"color: #008080; text-decoration-color: #008080; font-weight: bold\">5</span>♦, A♣, A♦, D♦, <span style=\"color: #008080; text-decoration-color: #008080; font-weight: bold\">2</span>♥, <span style=\"color: #008080; text-decoration-color: #008080; font-weight: bold\">5</span>♦, <span style=\"color: #008080; text-decoration-color: #008080; font-weight: bold\">5</span>♦, <span style=\"color: #008080; text-decoration-color: #008080; font-weight: bold\">2</span>♠, J♠, J♣, A♥, <span style=\"color: #008080; text-decoration-color: #008080; font-weight: bold\">6</span>♦, <span style=\"color: #008080; text-decoration-color: #008080; font-weight: bold\">7</span>♠, <span style=\"color: #008080; text-decoration-color: #008080; font-weight: bold\">4</span>♥, <span style=\"color: #008080; text-decoration-color: #008080; font-weight: bold\">9</span>♥, <span style=\"color: #008080; text-decoration-color: #008080; font-weight: bold\">6</span>♥, K♠, <span style=\"color: #008080; text-decoration-color: #008080; font-weight: bold\">4</span>♦, <span style=\"color: #008080; text-decoration-color: #008080; font-weight: bold\">2</span>♥, <span style=\"color: #008080; text-decoration-color: #008080; font-weight: bold\">2</span>♠, <span style=\"color: #008080; text-decoration-color: #008080; font-weight: bold\">3</span>♦, <span style=\"color: #008080; text-decoration-color: #008080; font-weight: bold\">10</span>♦, <span style=\"color: #008080; text-decoration-color: #008080; font-weight: bold\">3</span>♥, \n",
       "A♥, <span style=\"color: #008080; text-decoration-color: #008080; font-weight: bold\">2</span>♠, <span style=\"color: #008080; text-decoration-color: #008080; font-weight: bold\">10</span>♠, <span style=\"color: #008080; text-decoration-color: #008080; font-weight: bold\">10</span>♥, <span style=\"color: #008080; text-decoration-color: #008080; font-weight: bold\">5</span>♠, <span style=\"color: #008080; text-decoration-color: #008080; font-weight: bold\">7</span>♠, <span style=\"color: #008080; text-decoration-color: #008080; font-weight: bold\">7</span>♣, A♠, <span style=\"color: #008080; text-decoration-color: #008080; font-weight: bold\">8</span>♥, <span style=\"color: #008080; text-decoration-color: #008080; font-weight: bold\">4</span>♦, <span style=\"color: #008080; text-decoration-color: #008080; font-weight: bold\">8</span>♥, K♥, <span style=\"color: #008080; text-decoration-color: #008080; font-weight: bold\">2</span>♥, K♦, <span style=\"color: #008080; text-decoration-color: #008080; font-weight: bold\">7</span>♠, <span style=\"color: #008080; text-decoration-color: #008080; font-weight: bold\">3</span>♥, <span style=\"color: #008080; text-decoration-color: #008080; font-weight: bold\">2</span>♦, J♣, <span style=\"color: #008080; text-decoration-color: #008080; font-weight: bold\">8</span>♦, D♣, J♥, <span style=\"color: #008080; text-decoration-color: #008080; font-weight: bold\">5</span>♠, <span style=\"color: #008080; text-decoration-color: #008080; font-weight: bold\">3</span>♠, <span style=\"color: #008080; text-decoration-color: #008080; font-weight: bold\">3</span>♥, D♥, A♥, <span style=\"color: #008080; text-decoration-color: #008080; font-weight: bold\">4</span>♥, <span style=\"color: #008080; text-decoration-color: #008080; font-weight: bold\">2</span>♦, \n",
       "<span style=\"color: #008080; text-decoration-color: #008080; font-weight: bold\">6</span>♦, <span style=\"color: #008080; text-decoration-color: #008080; font-weight: bold\">10</span>♦, <span style=\"color: #008080; text-decoration-color: #008080; font-weight: bold\">6</span>♥, <span style=\"color: #008080; text-decoration-color: #008080; font-weight: bold\">7</span>♥, K♣, <span style=\"color: #008080; text-decoration-color: #008080; font-weight: bold\">7</span>♦, D♠, <span style=\"color: #008080; text-decoration-color: #008080; font-weight: bold\">9</span>♦, J♥, <span style=\"color: #008080; text-decoration-color: #008080; font-weight: bold\">9</span>♥, J♥, D♠, <span style=\"color: #008080; text-decoration-color: #008080; font-weight: bold\">10</span>♣, J♦, <span style=\"color: #008080; text-decoration-color: #008080; font-weight: bold\">3</span>♠, D♥, <span style=\"color: #008080; text-decoration-color: #008080; font-weight: bold\">7</span>♣, <span style=\"color: #008080; text-decoration-color: #008080; font-weight: bold\">10</span>♥, <span style=\"color: #008080; text-decoration-color: #008080; font-weight: bold\">9</span>♠, <span style=\"color: #008080; text-decoration-color: #008080; font-weight: bold\">3</span>♣, A♦, <span style=\"color: #008080; text-decoration-color: #008080; font-weight: bold\">4</span>♣, <span style=\"color: #008080; text-decoration-color: #008080; font-weight: bold\">4</span>♣, <span style=\"color: #008080; text-decoration-color: #008080; font-weight: bold\">2</span>♦, <span style=\"color: #008080; text-decoration-color: #008080; font-weight: bold\">10</span>♦, <span style=\"color: #008080; text-decoration-color: #008080; font-weight: bold\">4</span>♠, <span style=\"color: #008080; text-decoration-color: #008080; font-weight: bold\">3</span>♣, <span style=\"color: #008080; text-decoration-color: #008080; font-weight: bold\">5</span>♣,\n",
       "<span style=\"color: #008080; text-decoration-color: #008080; font-weight: bold\">2</span>♦, <span style=\"color: #008080; text-decoration-color: #008080; font-weight: bold\">9</span>♣, <span style=\"color: #008080; text-decoration-color: #008080; font-weight: bold\">5</span>♥, <span style=\"color: #008080; text-decoration-color: #008080; font-weight: bold\">8</span>♠, J♥, <span style=\"color: #008080; text-decoration-color: #008080; font-weight: bold\">4</span>♠, A♠, <span style=\"color: #008080; text-decoration-color: #008080; font-weight: bold\">7</span>♦, K♦, J♦, D♣, J♠, K♣, <span style=\"color: #008080; text-decoration-color: #008080; font-weight: bold\">2</span>♥, J♦, J♠, <span style=\"color: #008080; text-decoration-color: #008080; font-weight: bold\">8</span>♦, <span style=\"color: #008080; text-decoration-color: #008080; font-weight: bold\">6</span>♦, <span style=\"color: #008080; text-decoration-color: #008080; font-weight: bold\">9</span>♣, <span style=\"color: #008080; text-decoration-color: #008080; font-weight: bold\">7</span>♦, <span style=\"color: #008080; text-decoration-color: #008080; font-weight: bold\">10</span>♠, A♣, K♥, <span style=\"color: #008080; text-decoration-color: #008080; font-weight: bold\">3</span>♦, <span style=\"color: #008080; text-decoration-color: #008080; font-weight: bold\">6</span>♠, <span style=\"color: #008080; text-decoration-color: #008080; font-weight: bold\">7</span>♥, D♠, K♣, \n",
       "J♥, <span style=\"color: #008080; text-decoration-color: #008080; font-weight: bold\">10</span>♠, <span style=\"color: #008080; text-decoration-color: #008080; font-weight: bold\">4</span>♠, A♠, <span style=\"color: #008080; text-decoration-color: #008080; font-weight: bold\">3</span>♦, <span style=\"color: #008080; text-decoration-color: #008080; font-weight: bold\">8</span>♦, <span style=\"color: #008080; text-decoration-color: #008080; font-weight: bold\">5</span>♣, <span style=\"color: #008080; text-decoration-color: #008080; font-weight: bold\">5</span>♠, D♣, <span style=\"color: #008080; text-decoration-color: #008080; font-weight: bold\">2</span>♣, <span style=\"color: #008080; text-decoration-color: #008080; font-weight: bold\">8</span>♠, <span style=\"color: #008080; text-decoration-color: #008080; font-weight: bold\">9</span>♠, A♦, K♥, <span style=\"color: #008080; text-decoration-color: #008080; font-weight: bold\">5</span>♥, <span style=\"color: #008080; text-decoration-color: #008080; font-weight: bold\">9</span>♥, <span style=\"color: #008080; text-decoration-color: #008080; font-weight: bold\">8</span>♣, <span style=\"color: #008080; text-decoration-color: #008080; font-weight: bold\">7</span>♦, <span style=\"color: #008080; text-decoration-color: #008080; font-weight: bold\">3</span>♣, K♦, <span style=\"color: #008080; text-decoration-color: #008080; font-weight: bold\">5</span>♣, J♠, <span style=\"color: #008080; text-decoration-color: #008080; font-weight: bold\">6</span>♠, <span style=\"color: #008080; text-decoration-color: #008080; font-weight: bold\">3</span>♠, <span style=\"color: #008080; text-decoration-color: #008080; font-weight: bold\">9</span>♥, D♦, D♣, <span style=\"color: #008080; text-decoration-color: #008080; font-weight: bold\">8</span>♣, \n",
       "K♦, <span style=\"color: #008080; text-decoration-color: #008080; font-weight: bold\">6</span>♥, D♦, <span style=\"color: #008080; text-decoration-color: #008080; font-weight: bold\">7</span>♠, <span style=\"color: #008080; text-decoration-color: #008080; font-weight: bold\">6</span>♠, <span style=\"color: #008080; text-decoration-color: #008080; font-weight: bold\">5</span>♥, <span style=\"color: #008080; text-decoration-color: #008080; font-weight: bold\">4</span>♦, <span style=\"color: #008080; text-decoration-color: #008080; font-weight: bold\">9</span>♠, <span style=\"color: #008080; text-decoration-color: #008080; font-weight: bold\">8</span>♣, K♥, <span style=\"color: #008080; text-decoration-color: #008080; font-weight: bold\">2</span>♠, <span style=\"color: #008080; text-decoration-color: #008080; font-weight: bold\">8</span>♠, <span style=\"color: #008080; text-decoration-color: #008080; font-weight: bold\">5</span>♥, <span style=\"color: #008080; text-decoration-color: #008080; font-weight: bold\">10</span>♥, <span style=\"color: #008080; text-decoration-color: #008080; font-weight: bold\">10</span>♠, <span style=\"color: #008080; text-decoration-color: #008080; font-weight: bold\">5</span>♣, <span style=\"color: #008080; text-decoration-color: #008080; font-weight: bold\">3</span>♥, <span style=\"color: #008080; text-decoration-color: #008080; font-weight: bold\">7</span>♥, <span style=\"color: #008080; text-decoration-color: #008080; font-weight: bold\">4</span>♦, <span style=\"color: #008080; text-decoration-color: #008080; font-weight: bold\">7</span>♠, K♦, <span style=\"color: #008080; text-decoration-color: #008080; font-weight: bold\">3</span>♠, <span style=\"color: #008080; text-decoration-color: #008080; font-weight: bold\">4</span>♠, J♣, <span style=\"color: #008080; text-decoration-color: #008080; font-weight: bold\">4</span>♣, <span style=\"color: #008080; text-decoration-color: #008080; font-weight: bold\">10</span>♣, A♦, <span style=\"color: #008080; text-decoration-color: #008080; font-weight: bold\">2</span>♣, \n",
       "<span style=\"color: #008080; text-decoration-color: #008080; font-weight: bold\">4</span>♥, <span style=\"color: #008080; text-decoration-color: #008080; font-weight: bold\">7</span>♣, D♥, <span style=\"color: #008080; text-decoration-color: #008080; font-weight: bold\">2</span>♣, J♠, A♣, <span style=\"color: #008080; text-decoration-color: #008080; font-weight: bold\">4</span>♣, K♠\n",
       "</pre>\n"
      ],
      "text/plain": [
       "\u001b[1;36m4\u001b[0m♠, D♦, K♥, \u001b[1;36m10\u001b[0m♥, \u001b[1;36m2\u001b[0m♠, \u001b[1;36m2\u001b[0m♣, D♠, \u001b[1;36m10\u001b[0m♦, \u001b[1;36m8\u001b[0m♥, \u001b[1;36m8\u001b[0m♠, \u001b[1;36m5\u001b[0m♣, D♣, J♣, A♥, \u001b[1;36m6\u001b[0m♦, \u001b[1;36m9\u001b[0m♠, \u001b[1;36m6\u001b[0m♥, D♥, \u001b[1;36m6\u001b[0m♣, \u001b[1;36m6\u001b[0m♣, \u001b[1;36m8\u001b[0m♥, \u001b[1;36m8\u001b[0m♣, A♣, \u001b[1;36m10\u001b[0m♣, \u001b[1;36m5\u001b[0m♦, \u001b[1;36m4\u001b[0m♦, \u001b[1;36m5\u001b[0m♦, \u001b[1;36m7\u001b[0m♥, \n",
       "\u001b[1;36m6\u001b[0m♠, A♠, \u001b[1;36m7\u001b[0m♣, \u001b[1;36m7\u001b[0m♦, \u001b[1;36m3\u001b[0m♣, \u001b[1;36m10\u001b[0m♥, K♠, \u001b[1;36m6\u001b[0m♣, K♣, \u001b[1;36m2\u001b[0m♦, \u001b[1;36m3\u001b[0m♣, K♠, \u001b[1;36m3\u001b[0m♦, \u001b[1;36m10\u001b[0m♠, A♠, \u001b[1;36m3\u001b[0m♠, \u001b[1;36m4\u001b[0m♥, \u001b[1;36m9\u001b[0m♣, A♥, \u001b[1;36m9\u001b[0m♦, \u001b[1;36m8\u001b[0m♠, \u001b[1;36m6\u001b[0m♥, K♣, A♣, \u001b[1;36m9\u001b[0m♣, \u001b[1;36m10\u001b[0m♣, \u001b[1;36m5\u001b[0m♥, \u001b[1;36m6\u001b[0m♠, \n",
       "\u001b[1;36m9\u001b[0m♥, J♣, K♠, \u001b[1;36m5\u001b[0m♠, \u001b[1;36m3\u001b[0m♦, \u001b[1;36m10\u001b[0m♣, \u001b[1;36m4\u001b[0m♥, \u001b[1;36m2\u001b[0m♥, \u001b[1;36m6\u001b[0m♣, \u001b[1;36m6\u001b[0m♦, \u001b[1;36m9\u001b[0m♦, \u001b[1;36m9\u001b[0m♣, \u001b[1;36m8\u001b[0m♥, D♦, \u001b[1;36m8\u001b[0m♦, \u001b[1;36m10\u001b[0m♦, \u001b[1;36m7\u001b[0m♥, \u001b[1;36m9\u001b[0m♦, \u001b[1;36m3\u001b[0m♥, \u001b[1;36m7\u001b[0m♣, \u001b[1;36m2\u001b[0m♣, \u001b[1;36m8\u001b[0m♦, \u001b[1;36m9\u001b[0m♠, J♦, \u001b[1;36m4\u001b[0m♣, \u001b[1;36m5\u001b[0m♠, \u001b[1;36m8\u001b[0m♣, \u001b[1;36m6\u001b[0m♣, \n",
       "A♦, J♦, D♠, D♥, \u001b[1;36m9\u001b[0m♦, \u001b[1;36m5\u001b[0m♦, A♣, A♦, D♦, \u001b[1;36m2\u001b[0m♥, \u001b[1;36m5\u001b[0m♦, \u001b[1;36m5\u001b[0m♦, \u001b[1;36m2\u001b[0m♠, J♠, J♣, A♥, \u001b[1;36m6\u001b[0m♦, \u001b[1;36m7\u001b[0m♠, \u001b[1;36m4\u001b[0m♥, \u001b[1;36m9\u001b[0m♥, \u001b[1;36m6\u001b[0m♥, K♠, \u001b[1;36m4\u001b[0m♦, \u001b[1;36m2\u001b[0m♥, \u001b[1;36m2\u001b[0m♠, \u001b[1;36m3\u001b[0m♦, \u001b[1;36m10\u001b[0m♦, \u001b[1;36m3\u001b[0m♥, \n",
       "A♥, \u001b[1;36m2\u001b[0m♠, \u001b[1;36m10\u001b[0m♠, \u001b[1;36m10\u001b[0m♥, \u001b[1;36m5\u001b[0m♠, \u001b[1;36m7\u001b[0m♠, \u001b[1;36m7\u001b[0m♣, A♠, \u001b[1;36m8\u001b[0m♥, \u001b[1;36m4\u001b[0m♦, \u001b[1;36m8\u001b[0m♥, K♥, \u001b[1;36m2\u001b[0m♥, K♦, \u001b[1;36m7\u001b[0m♠, \u001b[1;36m3\u001b[0m♥, \u001b[1;36m2\u001b[0m♦, J♣, \u001b[1;36m8\u001b[0m♦, D♣, J♥, \u001b[1;36m5\u001b[0m♠, \u001b[1;36m3\u001b[0m♠, \u001b[1;36m3\u001b[0m♥, D♥, A♥, \u001b[1;36m4\u001b[0m♥, \u001b[1;36m2\u001b[0m♦, \n",
       "\u001b[1;36m6\u001b[0m♦, \u001b[1;36m10\u001b[0m♦, \u001b[1;36m6\u001b[0m♥, \u001b[1;36m7\u001b[0m♥, K♣, \u001b[1;36m7\u001b[0m♦, D♠, \u001b[1;36m9\u001b[0m♦, J♥, \u001b[1;36m9\u001b[0m♥, J♥, D♠, \u001b[1;36m10\u001b[0m♣, J♦, \u001b[1;36m3\u001b[0m♠, D♥, \u001b[1;36m7\u001b[0m♣, \u001b[1;36m10\u001b[0m♥, \u001b[1;36m9\u001b[0m♠, \u001b[1;36m3\u001b[0m♣, A♦, \u001b[1;36m4\u001b[0m♣, \u001b[1;36m4\u001b[0m♣, \u001b[1;36m2\u001b[0m♦, \u001b[1;36m10\u001b[0m♦, \u001b[1;36m4\u001b[0m♠, \u001b[1;36m3\u001b[0m♣, \u001b[1;36m5\u001b[0m♣,\n",
       "\u001b[1;36m2\u001b[0m♦, \u001b[1;36m9\u001b[0m♣, \u001b[1;36m5\u001b[0m♥, \u001b[1;36m8\u001b[0m♠, J♥, \u001b[1;36m4\u001b[0m♠, A♠, \u001b[1;36m7\u001b[0m♦, K♦, J♦, D♣, J♠, K♣, \u001b[1;36m2\u001b[0m♥, J♦, J♠, \u001b[1;36m8\u001b[0m♦, \u001b[1;36m6\u001b[0m♦, \u001b[1;36m9\u001b[0m♣, \u001b[1;36m7\u001b[0m♦, \u001b[1;36m10\u001b[0m♠, A♣, K♥, \u001b[1;36m3\u001b[0m♦, \u001b[1;36m6\u001b[0m♠, \u001b[1;36m7\u001b[0m♥, D♠, K♣, \n",
       "J♥, \u001b[1;36m10\u001b[0m♠, \u001b[1;36m4\u001b[0m♠, A♠, \u001b[1;36m3\u001b[0m♦, \u001b[1;36m8\u001b[0m♦, \u001b[1;36m5\u001b[0m♣, \u001b[1;36m5\u001b[0m♠, D♣, \u001b[1;36m2\u001b[0m♣, \u001b[1;36m8\u001b[0m♠, \u001b[1;36m9\u001b[0m♠, A♦, K♥, \u001b[1;36m5\u001b[0m♥, \u001b[1;36m9\u001b[0m♥, \u001b[1;36m8\u001b[0m♣, \u001b[1;36m7\u001b[0m♦, \u001b[1;36m3\u001b[0m♣, K♦, \u001b[1;36m5\u001b[0m♣, J♠, \u001b[1;36m6\u001b[0m♠, \u001b[1;36m3\u001b[0m♠, \u001b[1;36m9\u001b[0m♥, D♦, D♣, \u001b[1;36m8\u001b[0m♣, \n",
       "K♦, \u001b[1;36m6\u001b[0m♥, D♦, \u001b[1;36m7\u001b[0m♠, \u001b[1;36m6\u001b[0m♠, \u001b[1;36m5\u001b[0m♥, \u001b[1;36m4\u001b[0m♦, \u001b[1;36m9\u001b[0m♠, \u001b[1;36m8\u001b[0m♣, K♥, \u001b[1;36m2\u001b[0m♠, \u001b[1;36m8\u001b[0m♠, \u001b[1;36m5\u001b[0m♥, \u001b[1;36m10\u001b[0m♥, \u001b[1;36m10\u001b[0m♠, \u001b[1;36m5\u001b[0m♣, \u001b[1;36m3\u001b[0m♥, \u001b[1;36m7\u001b[0m♥, \u001b[1;36m4\u001b[0m♦, \u001b[1;36m7\u001b[0m♠, K♦, \u001b[1;36m3\u001b[0m♠, \u001b[1;36m4\u001b[0m♠, J♣, \u001b[1;36m4\u001b[0m♣, \u001b[1;36m10\u001b[0m♣, A♦, \u001b[1;36m2\u001b[0m♣, \n",
       "\u001b[1;36m4\u001b[0m♥, \u001b[1;36m7\u001b[0m♣, D♥, \u001b[1;36m2\u001b[0m♣, J♠, A♣, \u001b[1;36m4\u001b[0m♣, K♠\n"
      ]
     },
     "metadata": {},
     "output_type": "display_data"
    }
   ],
   "source": [
    "# These few lines simply visualize random card ordering in a deck.\n",
    "deck = CardDeck()\n",
    "print(\", \".join([repr(c) for c in deck.cards]))"
   ]
  },
  {
   "cell_type": "markdown",
   "id": "0bf09adc-afad-45fa-aaba-a89558c2e2a8",
   "metadata": {},
   "source": [
    "## Blackjack State and Rules for Updating the State"
   ]
  },
  {
   "cell_type": "markdown",
   "id": "93232f44-a958-4c3f-a126-015a4549843b",
   "metadata": {},
   "source": [
    "We now proceede to implement the state of a blackjack game, as well as different policies."
   ]
  },
  {
   "cell_type": "markdown",
   "id": "5df0d9b8-daa5-4ac5-a4ba-1fb3ce5ee46d",
   "metadata": {},
   "source": [
    "From the position of a player, the **state** of a blackjack game is defined by the list of all cards it has previously drawn (including the card that was initially given to it) and also the card in the posession of the dealer. However, the state defined in such a way actually contains more information than is needed to form a decission. It is sufficient to know:\n",
    "* the current player total;\n",
    "* if this total is created using an ACE which can be converted to 1, if needed; and\n",
    "* the value of the dealer's card"
   ]
  },
  {
   "cell_type": "markdown",
   "id": "d89e9359-4e2f-4198-b7f9-64fccafca713",
   "metadata": {},
   "source": [
    "As before, we utilize the concept of `dataclass` in order to implement the `State`."
   ]
  },
  {
   "cell_type": "code",
   "execution_count": 10,
   "id": "c53b83ca-b581-4ad3-b211-b36ed674ed9f",
   "metadata": {},
   "outputs": [],
   "source": [
    "@dataclass\n",
    "class State:\n",
    "    \"\"\"The state of a Blackjack game\"\"\"\n",
    "    total: int\n",
    "    has_ace: bool\n",
    "    dealer_total: int\n",
    "\n",
    "    def __hash__(self):\n",
    "        return hash(astuple(self))\n",
    "\n",
    "    def __repr__(self):\n",
    "        return repr(astuple(self))"
   ]
  },
  {
   "cell_type": "markdown",
   "id": "047bff95-c92d-4f45-8590-03c95f7ec396",
   "metadata": {},
   "source": [
    "We will now define a function which updates the total once the new card is drawn. In a way, this function implements core of the blackjack playing rules."
   ]
  },
  {
   "cell_type": "code",
   "execution_count": 11,
   "id": "5658b6ab-d47f-407c-9f53-3578780aade5",
   "metadata": {},
   "outputs": [],
   "source": [
    "def update_total(total: int, has_ace: bool, card_value: CardValue) -> tuple[int, bool]:\n",
    "    \"\"\"Update (a portion of) the player state by taking account a newly drawn card.\n",
    "    \n",
    "    Given the information regarding the current player state (total and ACE info), and the\n",
    "    value of a newly drawn card, updates the current player state (both total and ACE info).\n",
    "\n",
    "    The updated total returned by this function can be bigger than 21.\n",
    "    The function correctly tracks statuses of ACEs (i.e. it changes values of ACEs from\n",
    "    11 to 1, when appropriate, in order for the total not to excede 21), however, if\n",
    "    after this the total still remains bigger than 21 the function will simply return it\n",
    "    as is.\n",
    "\n",
    "    Args:\n",
    "        total (int): player total\n",
    "        has_ace (bool): indicates if the player has usable ACE\n",
    "        card_value (CardValue): value of the newly drawn card\n",
    "\n",
    "    Returns:\n",
    "        int: updated player total\n",
    "        bool: updated info indicating if the player has a usable ACE\n",
    "    \"\"\"\n",
    "    if card_value == CardValue.ACE:\n",
    "        if total + 11 <= 21:\n",
    "            # We have an ACE and the total is less than 21.\n",
    "            # We can keep the ACE as 11.\n",
    "            # Notice that it was impossible that we had another ACE in posession\n",
    "            # before (since in that case the total would surely be bigger than 21)\n",
    "            return (total+11, True)\n",
    "        else:\n",
    "            # The total excedes 21, and we must count the ACE as 1.\n",
    "            # It is possible we had another active ACE before, if so the\n",
    "            # status of this old ACE does not change.\n",
    "            return (total+1, has_ace)\n",
    "    else:\n",
    "        total += min(card_value.value, 10)\n",
    "        if total > 21:\n",
    "            # The player is potentially busted.\n",
    "            if has_ace:\n",
    "                # If we have an active ACE, we are saved.\n",
    "                # The ACE value is reduced from 11 to 1 (and the total is reduced by 10).\n",
    "                # However, the cost is that we no longer have an active ACE.\n",
    "                total -= 10\n",
    "                return (total, False)\n",
    "            else:\n",
    "                # We have not active ACE, so we cannote decrease the total\n",
    "                return (total, has_ace)\n",
    "        # The total is less than 21, we may return the state as is.\n",
    "        return (total, has_ace)"
   ]
  },
  {
   "cell_type": "markdown",
   "id": "874eeb88-b761-4843-a55c-8a77a6f12e01",
   "metadata": {},
   "source": [
    "Another usefull function will be the one that generates a random state. A valid Blackjack state is any in which the player total is between 2 and 21 (1 is never the total, since it could only happen by having a single ACE, which would be counted by 11). ACE indication can be `True` only if the total is bigger or equal to 11. Further, since the dealer has only one card during a player's turn, possible card values are between 2 and 11. "
   ]
  },
  {
   "cell_type": "code",
   "execution_count": 12,
   "id": "778e75cb-f7b7-41d7-8085-bb92db864049",
   "metadata": {},
   "outputs": [],
   "source": [
    "def random_state() -> State:\n",
    "    \"\"\"Generate a random state.\"\"\"\n",
    "    total = randint(2, 21)\n",
    "    if total>= 11:\n",
    "        r = random()\n",
    "        if r >= 0.5:\n",
    "            has_ace = True\n",
    "        else:\n",
    "            has_ace = False\n",
    "    else:\n",
    "        has_ace = False\n",
    "    dealer_value = randint(2, 11)\n",
    "    return State(total, has_ace, dealer_value)"
   ]
  },
  {
   "cell_type": "code",
   "execution_count": 13,
   "id": "b400368e-555f-4304-a2e8-48b22529de27",
   "metadata": {},
   "outputs": [],
   "source": [
    "def all_states() -> list[State]:\n",
    "    \"\"\"Create a list of all possible Blackjack states.\"\"\"\n",
    "    states = []\n",
    "    for total in range(2, 22):\n",
    "        for dealer_value in range(2, 12):\n",
    "            states.append(State(total, False, dealer_value))\n",
    "            if total >= 11:\n",
    "                states.append(State(total, True, dealer_value))\n",
    "    return states"
   ]
  },
  {
   "cell_type": "code",
   "execution_count": 14,
   "id": "18474438-8b9a-45b9-9612-b396226f516d",
   "metadata": {},
   "outputs": [
    {
     "data": {
      "text/plain": [
       "310"
      ]
     },
     "execution_count": 14,
     "metadata": {},
     "output_type": "execute_result"
    }
   ],
   "source": [
    "states = all_states()\n",
    "len(states)"
   ]
  },
  {
   "cell_type": "markdown",
   "id": "3a069be9-80ae-499b-b0fa-09b5239440cd",
   "metadata": {},
   "source": [
    "## Blackjack Actions and Policies"
   ]
  },
  {
   "cell_type": "markdown",
   "id": "52b011a8-60e4-4541-b204-babab5c9691e",
   "metadata": {},
   "source": [
    "We are now ready to define some interesting Blackjack policies. Before doing that, we will need to define Blackjack actions."
   ]
  },
  {
   "cell_type": "code",
   "execution_count": 15,
   "id": "c9d38f37-c03c-4585-bdea-d7904e1fdf24",
   "metadata": {},
   "outputs": [],
   "source": [
    "class Action(Enum):\n",
    "    \"\"\"Blackjack action.\"\"\"\n",
    "    HIT = 0\n",
    "    HOLD = 1\n",
    "\n",
    "    def __repr__(self):\n",
    "        return \"HIT\" if self == Action.HIT else \"HOLD\""
   ]
  },
  {
   "cell_type": "code",
   "execution_count": 16,
   "id": "8236a4bb-adee-4d99-80e4-8f612a830cec",
   "metadata": {},
   "outputs": [],
   "source": [
    "def random_action() -> Action:\n",
    "    \"\"\"Return random action.\"\"\"\n",
    "    r = random()\n",
    "    if r <= 0.5:\n",
    "        return Action.HIT\n",
    "    else:\n",
    "        return Action.HOLD"
   ]
  },
  {
   "cell_type": "markdown",
   "id": "04654662-191c-4dc7-81d5-4531387ad806",
   "metadata": {},
   "source": [
    "A policy can be seen as a function which, given a state, returns the action to take. Let us first define a type to describe all actions (so that we can use it in signatures of functions and methods)."
   ]
  },
  {
   "cell_type": "code",
   "execution_count": 17,
   "id": "ed4cc6f3-5584-4365-bf55-0fb14b035941",
   "metadata": {},
   "outputs": [],
   "source": [
    "Policy = Callable[[State], Action]"
   ]
  },
  {
   "cell_type": "markdown",
   "id": "5d5c650a-8479-430c-a95f-fead78cec6a7",
   "metadata": {},
   "source": [
    "Let us first define a **random policy**: A player using this policy will choose an action at random regardless of the state."
   ]
  },
  {
   "cell_type": "code",
   "execution_count": 18,
   "id": "7e9e13cc-5775-4bd7-b333-1e4a94e4ba7d",
   "metadata": {},
   "outputs": [],
   "source": [
    "def random_policy(s: State) -> Action:\n",
    "    return random_action()"
   ]
  },
  {
   "cell_type": "markdown",
   "id": "d85ed383-f072-4442-a970-865460fec47a",
   "metadata": {},
   "source": [
    "Another interesting policy is the **delaer policy**: Choose HIT whenever the total is less than 17, otherwise play HOLD."
   ]
  },
  {
   "cell_type": "code",
   "execution_count": 19,
   "id": "688dcf98-b3b1-455b-acc5-744e5c258f8c",
   "metadata": {},
   "outputs": [],
   "source": [
    "def dealer_policy(s: State) -> Action:\n",
    "    total, has_ace, _ = astuple(s)\n",
    "    if total < 17:\n",
    "        return Action.HIT\n",
    "    else:\n",
    "        return Action.HOLD"
   ]
  },
  {
   "cell_type": "markdown",
   "id": "f271cb76-cc5e-4a5e-a457-f1ba1b43988a",
   "metadata": {},
   "source": [
    "## Using a Policy: Playing an Entire Turn (of a Player or a Dealer)"
   ]
  },
  {
   "cell_type": "markdown",
   "id": "c9585f5b-0582-4c30-aa17-cd0abf4aec20",
   "metadata": {},
   "source": [
    "We now proceed to implement a single **turn**. This will be used to identify a sequence of HIT actions of a single agent, starting from some given initial state until a HOLD action is selected, or the total excedes 21. One Blackjack game (the way we are playing it here) consists of two turns: the player's turn and the dealer's turn. So, once we implement the turn, we will be able to implement a single game. A path to implementing a learning agent will then be completely set."
   ]
  },
  {
   "cell_type": "markdown",
   "id": "35fc3cd4-5cf4-4fd1-b76a-47d27c7d52d3",
   "metadata": {},
   "source": [
    "In general, we will be \"playing\" games in several different scenarios. In cases we are learning, we will be interested in \"playing\" many (thousands and tens of thousands) of games silently. In other cases, particularly during testing and demonstration, we will be interested in carefully tracing each event within a single game. "
   ]
  },
  {
   "cell_type": "markdown",
   "id": "71a85780-a562-4bb1-822d-cec38c7c9e23",
   "metadata": {},
   "source": [
    "Another interesting point to note is that we will wish to \"play\" games starting from different initial states. During learning, it will be of interest to choose the initial state completely randomly. During demonstration, it will be more interesting to have the game start in the usual way: by drawing a card from the deck for the player and another card from the deck for the dealer. For this reason, the `get_init_state` function allows for the `state` argument to be specified in three different ways:\n",
    "* as a `State` object, in which case this object is returned as the initial state\n",
    "* as a string \"random\", in which case a state is drawn completely randomly from the set of all possible states\n",
    "* as `None`, in which case the initial state is generated in the same way the game is actually played (by drawing cards from the deck: one for the player and one for the dealer)"
   ]
  },
  {
   "cell_type": "code",
   "execution_count": 20,
   "id": "3facb134-8bc0-4500-b96c-87be67956ca1",
   "metadata": {},
   "outputs": [],
   "source": [
    "def get_init_state(state: State | str | None, deck: CardDeck) -> State:\n",
    "    \"\"\"Generate initial state.\"\"\"\n",
    "    if state is None:\n",
    "        player_card = deck.draw()\n",
    "        total, has_ace = update_total(0, False, player_card.value)\n",
    "        dealer_card = deck.draw()\n",
    "        dealer_value = min(dealer_card.value.value, 10)\n",
    "        return State(total, has_ace, dealer_value)\n",
    "    else:\n",
    "        if isinstance(state, str):\n",
    "            assert state == \"random\", f\"Invalid init state specification: '{state}'\"\n",
    "            return random_state()\n",
    "        else:\n",
    "            return state"
   ]
  },
  {
   "cell_type": "markdown",
   "id": "17062bec-a25c-4772-9148-3911b31fa4b0",
   "metadata": {},
   "source": [
    "Similarly, we may wish to simulate a turn with a fixed given initial action, or with the initial action determined by the decision policy. The `action` parameter behaves in the same way as the `state` parameter in the `get_init_state` function: it can be an `Action` object, the string \"random\", or `None`. In this case:\n",
    "* specifying an `Action` object results in returning the same object\n",
    "* specifying \"random\" requests for a radnom action\n",
    "* specifying `None` results in an action specified by the given decision policy"
   ]
  },
  {
   "cell_type": "code",
   "execution_count": 21,
   "id": "3716efdd-7ccf-4f52-aafd-ad8101b619f7",
   "metadata": {},
   "outputs": [],
   "source": [
    "def get_init_action(action: Action | str | None, state: State, policy: Policy) -> Action:\n",
    "    \"\"\"Generate initial action.\"\"\"\n",
    "    if action is not None:\n",
    "        if isinstance(action, str):\n",
    "            assert action == \"random\", f\"Ivalid init action specification: '{action}'\"\n",
    "            return random_action()\n",
    "        else:\n",
    "            return action\n",
    "    else:\n",
    "        return policy(state)"
   ]
  },
  {
   "cell_type": "markdown",
   "id": "7b5adf11-f923-4fa0-8df6-dfcd659731de",
   "metadata": {},
   "source": [
    "Finally, we are ready to implement a single turn of play... While playing we will track (log) the sequence of states and actions (we will refer to a list of all state-action pairs as `TurnLog`). We will need those information later, while implementing learning agents."
   ]
  },
  {
   "cell_type": "markdown",
   "id": "c690b8e3-37f0-4968-a140-84ad19790dee",
   "metadata": {},
   "source": [
    "To make reporting functionality flexibile, we will add optional reporting arguments to all \"turn-playing\" and \"game-playing\" functions we implement -- report callbacks. They will be functions which take a textual message and (optionally) report them to a user."
   ]
  },
  {
   "cell_type": "code",
   "execution_count": 22,
   "id": "8cf00d86-b925-4613-8819-2f023f37f83b",
   "metadata": {},
   "outputs": [],
   "source": [
    "TurnLog = list[tuple[State, Action]]\n",
    "ReportCallback = Callable[[str], None]"
   ]
  },
  {
   "cell_type": "markdown",
   "id": "e5adc61c-d2dc-4a25-ba40-1795765c1233",
   "metadata": {},
   "source": [
    "Now, we implement the function which actually plays a single turn of an agent (which may be a player or a dealer)."
   ]
  },
  {
   "cell_type": "code",
   "execution_count": 23,
   "id": "f6f9d8cc-811c-4074-82ac-6da3d0e6dc4f",
   "metadata": {},
   "outputs": [],
   "source": [
    "def play_turn(policy: Policy, \n",
    "              deck: CardDeck, \n",
    "              init_state: State | None = None,\n",
    "              init_action: Action | None = None, \n",
    "              report_callback: ReportCallback | None = None) -> tuple[int | None, TurnLog]:\n",
    "    \"\"\"A single playing turn of an agent.\n",
    "\n",
    "    Args:\n",
    "        policy (Policy): decision policy used by the agent\n",
    "        deck (CardDeck): deck of cards from which to draw\n",
    "        init_state (State | None): initial state or `None` if the initial state\n",
    "                                   is to be selected by drawing from the deck.\n",
    "        init_action (Action | None): initial action or `None` if the initial action\n",
    "                                     is to be selected according to the decision policy\n",
    "        report_callback (ReportCallback | None): callback used to report progress\n",
    "                                                 if `None`, the turn will be played silently\n",
    "\n",
    "    Return:\n",
    "        int | None: The final agent's total or `None` if the agent is busted\n",
    "        TurnLog: sequence of states and actions observed during gameplay\n",
    "    \"\"\"\n",
    "    report = lambda txt: report_callback and report_callback(txt)\n",
    "    state = get_init_state(init_state, deck)\n",
    "    action = get_init_action(init_action, state, policy)\n",
    "    total, has_ace, dealer_value = astuple(state)\n",
    "    report(f\"[bold]initial state[/] {state}\")\n",
    "    report(f\"initial total {total} with ACE {has_ace} => [bold]initial action[/] {action}\")\n",
    "    turn_log = [(state, action)]\n",
    "    while action == Action.HIT:\n",
    "        card = deck.draw()\n",
    "        total, has_ace = update_total(total, has_ace, card.value)\n",
    "        state = State(total, has_ace, dealer_value)\n",
    "        if total > 21:\n",
    "            # Since total is above 21, the state is not valid and should not\n",
    "            # be logged!\n",
    "            report(f\"turned finished - [bold]BUSTED![/] card drawn {card} => total {total} with ACE {has_ace}\")\n",
    "            return None, turn_log\n",
    "        else:\n",
    "            action = policy(state)\n",
    "            turn_log.append((state, action))\n",
    "            report(f\"card drawn {card} => total {total} with ACE {has_ace} => action chosen {action}\")\n",
    "    report(f\"turn finished with final total {total}\")\n",
    "    return total, turn_log"
   ]
  },
  {
   "cell_type": "markdown",
   "id": "066237a2-f33f-4bc8-b4e4-2cf8685aedb3",
   "metadata": {},
   "source": [
    "We can now test the functionality implemented thus far... We will first create a small callback function useful for reporting. Please note that this function is using `print` function **which is not the default `print` function of `python`**. In the very first cell of this notebook there is a line:\n",
    "\n",
    "```\n",
    "from rich import print\n",
    "```\n",
    "\n",
    "This line introduces the `print` function from the `rich` library and essentially overloads the name `print`, so that any subsequent call to `print` actually reference the implementation from the library and not the built-in one. One of the advantages of the `rich` version of the `print` function is that it can produce rich and colorfull output using simple and straightforward markup language."
   ]
  },
  {
   "cell_type": "code",
   "execution_count": 24,
   "id": "acc396d1-b402-4712-9bb4-64ba26119277",
   "metadata": {},
   "outputs": [],
   "source": [
    "report_callback = lambda txt: print(f\"[bold blue]AGENT:[/] {txt}\")"
   ]
  },
  {
   "cell_type": "code",
   "execution_count": 25,
   "id": "a36bcbcb-3b63-4b24-bb49-802c4ad2a6e2",
   "metadata": {},
   "outputs": [
    {
     "data": {
      "text/html": [
       "<pre style=\"white-space:pre;overflow-x:auto;line-height:normal;font-family:Menlo,'DejaVu Sans Mono',consolas,'Courier New',monospace\"><span style=\"color: #000080; text-decoration-color: #000080; font-weight: bold\">AGENT:</span> <span style=\"font-weight: bold\">initial state</span> <span style=\"font-weight: bold\">(</span><span style=\"color: #008080; text-decoration-color: #008080; font-weight: bold\">4</span>, <span style=\"color: #ff0000; text-decoration-color: #ff0000; font-style: italic\">False</span>, <span style=\"color: #008080; text-decoration-color: #008080; font-weight: bold\">10</span><span style=\"font-weight: bold\">)</span>\n",
       "</pre>\n"
      ],
      "text/plain": [
       "\u001b[1;34mAGENT:\u001b[0m \u001b[1minitial state\u001b[0m \u001b[1m(\u001b[0m\u001b[1;36m4\u001b[0m, \u001b[3;91mFalse\u001b[0m, \u001b[1;36m10\u001b[0m\u001b[1m)\u001b[0m\n"
      ]
     },
     "metadata": {},
     "output_type": "display_data"
    },
    {
     "data": {
      "text/html": [
       "<pre style=\"white-space:pre;overflow-x:auto;line-height:normal;font-family:Menlo,'DejaVu Sans Mono',consolas,'Courier New',monospace\"><span style=\"color: #000080; text-decoration-color: #000080; font-weight: bold\">AGENT:</span> initial total <span style=\"color: #008080; text-decoration-color: #008080; font-weight: bold\">4</span> with ACE <span style=\"color: #ff0000; text-decoration-color: #ff0000; font-style: italic\">False</span> =&gt; <span style=\"font-weight: bold\">initial action</span> Action.HOLD\n",
       "</pre>\n"
      ],
      "text/plain": [
       "\u001b[1;34mAGENT:\u001b[0m initial total \u001b[1;36m4\u001b[0m with ACE \u001b[3;91mFalse\u001b[0m => \u001b[1minitial action\u001b[0m Action.HOLD\n"
      ]
     },
     "metadata": {},
     "output_type": "display_data"
    },
    {
     "data": {
      "text/html": [
       "<pre style=\"white-space:pre;overflow-x:auto;line-height:normal;font-family:Menlo,'DejaVu Sans Mono',consolas,'Courier New',monospace\"><span style=\"color: #000080; text-decoration-color: #000080; font-weight: bold\">AGENT:</span> turn finished with final total <span style=\"color: #008080; text-decoration-color: #008080; font-weight: bold\">4</span>\n",
       "</pre>\n"
      ],
      "text/plain": [
       "\u001b[1;34mAGENT:\u001b[0m turn finished with final total \u001b[1;36m4\u001b[0m\n"
      ]
     },
     "metadata": {},
     "output_type": "display_data"
    },
    {
     "data": {
      "text/plain": [
       "(4, [((4, False, 10), HOLD)])"
      ]
     },
     "execution_count": 25,
     "metadata": {},
     "output_type": "execute_result"
    }
   ],
   "source": [
    "# Testing the random policy\n",
    "# Initial state is chosen by drawing cards from the deck. The initial action is chosen according to the policy\n",
    "play_turn(random_policy, deck, report_callback=report_callback)"
   ]
  },
  {
   "cell_type": "code",
   "execution_count": 26,
   "id": "5bd8fb30-9637-40c1-8468-2306139cf2f0",
   "metadata": {},
   "outputs": [
    {
     "data": {
      "text/html": [
       "<pre style=\"white-space:pre;overflow-x:auto;line-height:normal;font-family:Menlo,'DejaVu Sans Mono',consolas,'Courier New',monospace\"><span style=\"color: #000080; text-decoration-color: #000080; font-weight: bold\">AGENT:</span> <span style=\"font-weight: bold\">initial state</span> <span style=\"font-weight: bold\">(</span><span style=\"color: #008080; text-decoration-color: #008080; font-weight: bold\">10</span>, <span style=\"color: #ff0000; text-decoration-color: #ff0000; font-style: italic\">False</span>, <span style=\"color: #008080; text-decoration-color: #008080; font-weight: bold\">10</span><span style=\"font-weight: bold\">)</span>\n",
       "</pre>\n"
      ],
      "text/plain": [
       "\u001b[1;34mAGENT:\u001b[0m \u001b[1minitial state\u001b[0m \u001b[1m(\u001b[0m\u001b[1;36m10\u001b[0m, \u001b[3;91mFalse\u001b[0m, \u001b[1;36m10\u001b[0m\u001b[1m)\u001b[0m\n"
      ]
     },
     "metadata": {},
     "output_type": "display_data"
    },
    {
     "data": {
      "text/html": [
       "<pre style=\"white-space:pre;overflow-x:auto;line-height:normal;font-family:Menlo,'DejaVu Sans Mono',consolas,'Courier New',monospace\"><span style=\"color: #000080; text-decoration-color: #000080; font-weight: bold\">AGENT:</span> initial total <span style=\"color: #008080; text-decoration-color: #008080; font-weight: bold\">10</span> with ACE <span style=\"color: #ff0000; text-decoration-color: #ff0000; font-style: italic\">False</span> =&gt; <span style=\"font-weight: bold\">initial action</span> Action.HIT\n",
       "</pre>\n"
      ],
      "text/plain": [
       "\u001b[1;34mAGENT:\u001b[0m initial total \u001b[1;36m10\u001b[0m with ACE \u001b[3;91mFalse\u001b[0m => \u001b[1minitial action\u001b[0m Action.HIT\n"
      ]
     },
     "metadata": {},
     "output_type": "display_data"
    },
    {
     "data": {
      "text/html": [
       "<pre style=\"white-space:pre;overflow-x:auto;line-height:normal;font-family:Menlo,'DejaVu Sans Mono',consolas,'Courier New',monospace\"><span style=\"color: #000080; text-decoration-color: #000080; font-weight: bold\">AGENT:</span> card drawn <span style=\"color: #008080; text-decoration-color: #008080; font-weight: bold\">2</span>♠ =&gt; total <span style=\"color: #008080; text-decoration-color: #008080; font-weight: bold\">12</span> with ACE <span style=\"color: #ff0000; text-decoration-color: #ff0000; font-style: italic\">False</span> =&gt; action chosen Action.HIT\n",
       "</pre>\n"
      ],
      "text/plain": [
       "\u001b[1;34mAGENT:\u001b[0m card drawn \u001b[1;36m2\u001b[0m♠ => total \u001b[1;36m12\u001b[0m with ACE \u001b[3;91mFalse\u001b[0m => action chosen Action.HIT\n"
      ]
     },
     "metadata": {},
     "output_type": "display_data"
    },
    {
     "data": {
      "text/html": [
       "<pre style=\"white-space:pre;overflow-x:auto;line-height:normal;font-family:Menlo,'DejaVu Sans Mono',consolas,'Courier New',monospace\"><span style=\"color: #000080; text-decoration-color: #000080; font-weight: bold\">AGENT:</span> card drawn <span style=\"color: #008080; text-decoration-color: #008080; font-weight: bold\">2</span>♣ =&gt; total <span style=\"color: #008080; text-decoration-color: #008080; font-weight: bold\">14</span> with ACE <span style=\"color: #ff0000; text-decoration-color: #ff0000; font-style: italic\">False</span> =&gt; action chosen Action.HIT\n",
       "</pre>\n"
      ],
      "text/plain": [
       "\u001b[1;34mAGENT:\u001b[0m card drawn \u001b[1;36m2\u001b[0m♣ => total \u001b[1;36m14\u001b[0m with ACE \u001b[3;91mFalse\u001b[0m => action chosen Action.HIT\n"
      ]
     },
     "metadata": {},
     "output_type": "display_data"
    },
    {
     "data": {
      "text/html": [
       "<pre style=\"white-space:pre;overflow-x:auto;line-height:normal;font-family:Menlo,'DejaVu Sans Mono',consolas,'Courier New',monospace\"><span style=\"color: #000080; text-decoration-color: #000080; font-weight: bold\">AGENT:</span> turned finished - <span style=\"font-weight: bold\">BUSTED!</span> card drawn D♠ =&gt; total <span style=\"color: #008080; text-decoration-color: #008080; font-weight: bold\">24</span> with ACE <span style=\"color: #ff0000; text-decoration-color: #ff0000; font-style: italic\">False</span>\n",
       "</pre>\n"
      ],
      "text/plain": [
       "\u001b[1;34mAGENT:\u001b[0m turned finished - \u001b[1mBUSTED!\u001b[0m card drawn D♠ => total \u001b[1;36m24\u001b[0m with ACE \u001b[3;91mFalse\u001b[0m\n"
      ]
     },
     "metadata": {},
     "output_type": "display_data"
    },
    {
     "data": {
      "text/plain": [
       "(None,\n",
       " [((10, False, 10), HIT), ((12, False, 10), HIT), ((14, False, 10), HIT)])"
      ]
     },
     "execution_count": 26,
     "metadata": {},
     "output_type": "execute_result"
    }
   ],
   "source": [
    "# Testing the dealer's policy\n",
    "# Initial state is chosen by drawing cards from the deck. The initial action is chosen according to the policy\n",
    "play_turn(dealer_policy, deck, report_callback=report_callback)"
   ]
  },
  {
   "cell_type": "code",
   "execution_count": 27,
   "id": "ad14929f-785f-40c2-9c23-34f880e2fa39",
   "metadata": {},
   "outputs": [
    {
     "data": {
      "text/html": [
       "<pre style=\"white-space:pre;overflow-x:auto;line-height:normal;font-family:Menlo,'DejaVu Sans Mono',consolas,'Courier New',monospace\"><span style=\"color: #000080; text-decoration-color: #000080; font-weight: bold\">AGENT:</span> <span style=\"font-weight: bold\">initial state</span> <span style=\"font-weight: bold\">(</span><span style=\"color: #008080; text-decoration-color: #008080; font-weight: bold\">10</span>, <span style=\"color: #ff0000; text-decoration-color: #ff0000; font-style: italic\">False</span>, <span style=\"color: #008080; text-decoration-color: #008080; font-weight: bold\">8</span><span style=\"font-weight: bold\">)</span>\n",
       "</pre>\n"
      ],
      "text/plain": [
       "\u001b[1;34mAGENT:\u001b[0m \u001b[1minitial state\u001b[0m \u001b[1m(\u001b[0m\u001b[1;36m10\u001b[0m, \u001b[3;91mFalse\u001b[0m, \u001b[1;36m8\u001b[0m\u001b[1m)\u001b[0m\n"
      ]
     },
     "metadata": {},
     "output_type": "display_data"
    },
    {
     "data": {
      "text/html": [
       "<pre style=\"white-space:pre;overflow-x:auto;line-height:normal;font-family:Menlo,'DejaVu Sans Mono',consolas,'Courier New',monospace\"><span style=\"color: #000080; text-decoration-color: #000080; font-weight: bold\">AGENT:</span> initial total <span style=\"color: #008080; text-decoration-color: #008080; font-weight: bold\">10</span> with ACE <span style=\"color: #ff0000; text-decoration-color: #ff0000; font-style: italic\">False</span> =&gt; <span style=\"font-weight: bold\">initial action</span> Action.HOLD\n",
       "</pre>\n"
      ],
      "text/plain": [
       "\u001b[1;34mAGENT:\u001b[0m initial total \u001b[1;36m10\u001b[0m with ACE \u001b[3;91mFalse\u001b[0m => \u001b[1minitial action\u001b[0m Action.HOLD\n"
      ]
     },
     "metadata": {},
     "output_type": "display_data"
    },
    {
     "data": {
      "text/html": [
       "<pre style=\"white-space:pre;overflow-x:auto;line-height:normal;font-family:Menlo,'DejaVu Sans Mono',consolas,'Courier New',monospace\"><span style=\"color: #000080; text-decoration-color: #000080; font-weight: bold\">AGENT:</span> turn finished with final total <span style=\"color: #008080; text-decoration-color: #008080; font-weight: bold\">10</span>\n",
       "</pre>\n"
      ],
      "text/plain": [
       "\u001b[1;34mAGENT:\u001b[0m turn finished with final total \u001b[1;36m10\u001b[0m\n"
      ]
     },
     "metadata": {},
     "output_type": "display_data"
    },
    {
     "data": {
      "text/plain": [
       "(10, [((10, False, 8), HOLD)])"
      ]
     },
     "execution_count": 27,
     "metadata": {},
     "output_type": "execute_result"
    }
   ],
   "source": [
    "# If we like, we can force the initial action.\n",
    "# Subsequent actions will be selected according to the given policy.\n",
    "play_turn(dealer_policy, deck, init_action=Action.HOLD, report_callback=report_callback)"
   ]
  },
  {
   "cell_type": "code",
   "execution_count": 28,
   "id": "3012ffb4-80d6-4850-9ef9-a33c692dced2",
   "metadata": {},
   "outputs": [
    {
     "data": {
      "text/html": [
       "<pre style=\"white-space:pre;overflow-x:auto;line-height:normal;font-family:Menlo,'DejaVu Sans Mono',consolas,'Courier New',monospace\"><span style=\"color: #000080; text-decoration-color: #000080; font-weight: bold\">AGENT:</span> <span style=\"font-weight: bold\">initial state</span> <span style=\"font-weight: bold\">(</span><span style=\"color: #008080; text-decoration-color: #008080; font-weight: bold\">10</span>, <span style=\"color: #ff0000; text-decoration-color: #ff0000; font-style: italic\">False</span>, <span style=\"color: #008080; text-decoration-color: #008080; font-weight: bold\">6</span><span style=\"font-weight: bold\">)</span>\n",
       "</pre>\n"
      ],
      "text/plain": [
       "\u001b[1;34mAGENT:\u001b[0m \u001b[1minitial state\u001b[0m \u001b[1m(\u001b[0m\u001b[1;36m10\u001b[0m, \u001b[3;91mFalse\u001b[0m, \u001b[1;36m6\u001b[0m\u001b[1m)\u001b[0m\n"
      ]
     },
     "metadata": {},
     "output_type": "display_data"
    },
    {
     "data": {
      "text/html": [
       "<pre style=\"white-space:pre;overflow-x:auto;line-height:normal;font-family:Menlo,'DejaVu Sans Mono',consolas,'Courier New',monospace\"><span style=\"color: #000080; text-decoration-color: #000080; font-weight: bold\">AGENT:</span> initial total <span style=\"color: #008080; text-decoration-color: #008080; font-weight: bold\">10</span> with ACE <span style=\"color: #ff0000; text-decoration-color: #ff0000; font-style: italic\">False</span> =&gt; <span style=\"font-weight: bold\">initial action</span> Action.HIT\n",
       "</pre>\n"
      ],
      "text/plain": [
       "\u001b[1;34mAGENT:\u001b[0m initial total \u001b[1;36m10\u001b[0m with ACE \u001b[3;91mFalse\u001b[0m => \u001b[1minitial action\u001b[0m Action.HIT\n"
      ]
     },
     "metadata": {},
     "output_type": "display_data"
    },
    {
     "data": {
      "text/html": [
       "<pre style=\"white-space:pre;overflow-x:auto;line-height:normal;font-family:Menlo,'DejaVu Sans Mono',consolas,'Courier New',monospace\"><span style=\"color: #000080; text-decoration-color: #000080; font-weight: bold\">AGENT:</span> card drawn <span style=\"color: #008080; text-decoration-color: #008080; font-weight: bold\">8</span>♠ =&gt; total <span style=\"color: #008080; text-decoration-color: #008080; font-weight: bold\">18</span> with ACE <span style=\"color: #ff0000; text-decoration-color: #ff0000; font-style: italic\">False</span> =&gt; action chosen Action.HOLD\n",
       "</pre>\n"
      ],
      "text/plain": [
       "\u001b[1;34mAGENT:\u001b[0m card drawn \u001b[1;36m8\u001b[0m♠ => total \u001b[1;36m18\u001b[0m with ACE \u001b[3;91mFalse\u001b[0m => action chosen Action.HOLD\n"
      ]
     },
     "metadata": {},
     "output_type": "display_data"
    },
    {
     "data": {
      "text/html": [
       "<pre style=\"white-space:pre;overflow-x:auto;line-height:normal;font-family:Menlo,'DejaVu Sans Mono',consolas,'Courier New',monospace\"><span style=\"color: #000080; text-decoration-color: #000080; font-weight: bold\">AGENT:</span> turn finished with final total <span style=\"color: #008080; text-decoration-color: #008080; font-weight: bold\">18</span>\n",
       "</pre>\n"
      ],
      "text/plain": [
       "\u001b[1;34mAGENT:\u001b[0m turn finished with final total \u001b[1;36m18\u001b[0m\n"
      ]
     },
     "metadata": {},
     "output_type": "display_data"
    },
    {
     "data": {
      "text/plain": [
       "(18, [((10, False, 6), HIT), ((18, False, 6), HOLD)])"
      ]
     },
     "execution_count": 28,
     "metadata": {},
     "output_type": "execute_result"
    }
   ],
   "source": [
    "# If we like, we may also require the initial state to be selected completely at random.\n",
    "# As before, the initial action is selected according to the policy\n",
    "play_turn(dealer_policy, deck, init_state=\"random\", report_callback=report_callback)"
   ]
  },
  {
   "cell_type": "code",
   "execution_count": 29,
   "id": "172db472-a07e-4e15-9649-619ed7ed7193",
   "metadata": {},
   "outputs": [
    {
     "data": {
      "text/html": [
       "<pre style=\"white-space:pre;overflow-x:auto;line-height:normal;font-family:Menlo,'DejaVu Sans Mono',consolas,'Courier New',monospace\"><span style=\"color: #000080; text-decoration-color: #000080; font-weight: bold\">AGENT:</span> <span style=\"font-weight: bold\">initial state</span> <span style=\"font-weight: bold\">(</span><span style=\"color: #008080; text-decoration-color: #008080; font-weight: bold\">10</span>, <span style=\"color: #ff0000; text-decoration-color: #ff0000; font-style: italic\">False</span>, <span style=\"color: #008080; text-decoration-color: #008080; font-weight: bold\">6</span><span style=\"font-weight: bold\">)</span>\n",
       "</pre>\n"
      ],
      "text/plain": [
       "\u001b[1;34mAGENT:\u001b[0m \u001b[1minitial state\u001b[0m \u001b[1m(\u001b[0m\u001b[1;36m10\u001b[0m, \u001b[3;91mFalse\u001b[0m, \u001b[1;36m6\u001b[0m\u001b[1m)\u001b[0m\n"
      ]
     },
     "metadata": {},
     "output_type": "display_data"
    },
    {
     "data": {
      "text/html": [
       "<pre style=\"white-space:pre;overflow-x:auto;line-height:normal;font-family:Menlo,'DejaVu Sans Mono',consolas,'Courier New',monospace\"><span style=\"color: #000080; text-decoration-color: #000080; font-weight: bold\">AGENT:</span> initial total <span style=\"color: #008080; text-decoration-color: #008080; font-weight: bold\">10</span> with ACE <span style=\"color: #ff0000; text-decoration-color: #ff0000; font-style: italic\">False</span> =&gt; <span style=\"font-weight: bold\">initial action</span> Action.HOLD\n",
       "</pre>\n"
      ],
      "text/plain": [
       "\u001b[1;34mAGENT:\u001b[0m initial total \u001b[1;36m10\u001b[0m with ACE \u001b[3;91mFalse\u001b[0m => \u001b[1minitial action\u001b[0m Action.HOLD\n"
      ]
     },
     "metadata": {},
     "output_type": "display_data"
    },
    {
     "data": {
      "text/html": [
       "<pre style=\"white-space:pre;overflow-x:auto;line-height:normal;font-family:Menlo,'DejaVu Sans Mono',consolas,'Courier New',monospace\"><span style=\"color: #000080; text-decoration-color: #000080; font-weight: bold\">AGENT:</span> turn finished with final total <span style=\"color: #008080; text-decoration-color: #008080; font-weight: bold\">10</span>\n",
       "</pre>\n"
      ],
      "text/plain": [
       "\u001b[1;34mAGENT:\u001b[0m turn finished with final total \u001b[1;36m10\u001b[0m\n"
      ]
     },
     "metadata": {},
     "output_type": "display_data"
    },
    {
     "data": {
      "text/plain": [
       "(10, [((10, False, 6), HOLD)])"
      ]
     },
     "execution_count": 29,
     "metadata": {},
     "output_type": "execute_result"
    }
   ],
   "source": [
    "# We can also force both the initial state and the initial action to be selected completely randomly\n",
    "play_turn(dealer_policy, deck, init_state=\"random\", init_action=\"random\", report_callback=report_callback)"
   ]
  },
  {
   "cell_type": "markdown",
   "id": "4bceb8c8-803c-499c-8b8e-334742519838",
   "metadata": {},
   "source": [
    "## Using a Policy: Playing an Entire Game"
   ]
  },
  {
   "cell_type": "markdown",
   "id": "eaf102fe-d34e-421f-8727-6f961cdf7b5d",
   "metadata": {},
   "source": [
    "We will now implement a function that will be used to play entire games. In addition to playing the game, the function will also collect experience - tripples containing states, actions, and the total discounted return (gain) - collected during play."
   ]
  },
  {
   "cell_type": "code",
   "execution_count": 30,
   "id": "e7ec80c4-eb71-490f-b182-ef5b1eabb00d",
   "metadata": {},
   "outputs": [],
   "source": [
    "Experience = tuple[State, Action, float]"
   ]
  },
  {
   "cell_type": "markdown",
   "id": "78149085-009b-485d-ae93-937cf166852d",
   "metadata": {},
   "source": [
    "We will first a need some auxiliary functionality that computes discounted gains from rewards."
   ]
  },
  {
   "cell_type": "code",
   "execution_count": 31,
   "id": "c4d06ada-3b0e-480a-a88e-bc5536eac694",
   "metadata": {},
   "outputs": [],
   "source": [
    "def compute_gain(rewards: list[float], gamma: float) -> float:\n",
    "    \"\"\"\n",
    "    Compute the total gain given the list of future rewards.\n",
    "    \n",
    "    Args:\n",
    "        rewards (list[float]): List of future rewards.\n",
    "        gamma: discount factor\n",
    "\n",
    "    Return:\n",
    "        float: The total gain\n",
    "    \"\"\"\n",
    "    g = 0\n",
    "    w = 1\n",
    "    for r in rewards:\n",
    "        g += w*r\n",
    "        w *= gamma\n",
    "    return g\n",
    "\n",
    "def discounted_gains(rewards: list[float], gamma) -> list[float]:\n",
    "    \"\"\"\n",
    "    Compute list of discounted gains, given a sequence of rewards.\n",
    "\n",
    "    Args:\n",
    "        rewards (list[float]): Sequence of rewards.\n",
    "        gamma: discount factor\n",
    "\n",
    "    Return:\n",
    "        list[float]: sequence of gains\n",
    "    \"\"\"\n",
    "    gains = [compute_gain(rewards[i:], gamma) for i in range(len(rewards))]\n",
    "    return gains"
   ]
  },
  {
   "cell_type": "markdown",
   "id": "bbfcdd7d-4738-44e5-8d05-ebe761e9ded3",
   "metadata": {},
   "source": [
    "Let us first see how the above auxiliary functions work. When the discount factor is 1, the rewards given after the final move are copied to the preceding move without change."
   ]
  },
  {
   "cell_type": "code",
   "execution_count": 32,
   "id": "6876872d-9a1e-48cb-8616-c75ddb06e8a4",
   "metadata": {},
   "outputs": [
    {
     "data": {
      "text/plain": [
       "[1.0, 1.0, 1.0, 1]"
      ]
     },
     "execution_count": 32,
     "metadata": {},
     "output_type": "execute_result"
    }
   ],
   "source": [
    "rewards = [0, 0, 0, 1]\n",
    "discounted_gains(rewards, 1.0)"
   ]
  },
  {
   "cell_type": "markdown",
   "id": "226e8cfc-7372-40b9-bb22-801cf06f0232",
   "metadata": {},
   "source": [
    "However, if the discount factor is lower, then the earlier moves (ones further away from the final one) are given less credit for the final result"
   ]
  },
  {
   "cell_type": "code",
   "execution_count": 33,
   "id": "dd0e1a0c-4695-46a5-af7a-3522d6aa99ea",
   "metadata": {},
   "outputs": [
    {
     "data": {
      "text/plain": [
       "[0.7290000000000001, 0.81, 0.9, 1]"
      ]
     },
     "execution_count": 33,
     "metadata": {},
     "output_type": "execute_result"
    }
   ],
   "source": [
    "discounted_gains(rewards, 0.9)"
   ]
  },
  {
   "cell_type": "markdown",
   "id": "9db5784b-095e-40a3-ae8d-32b392963b8e",
   "metadata": {},
   "source": [
    "Now we need a function which builds experience from the state-action pairs encountered during a single turn."
   ]
  },
  {
   "cell_type": "code",
   "execution_count": 34,
   "id": "63c79136-1fd5-4a88-90dc-3ae8ed06537f",
   "metadata": {},
   "outputs": [],
   "source": [
    "def build_experience(turn_log: TurnLog, result: int, gamma) -> Experience:\n",
    "    \"\"\"\n",
    "    Compute experience from the turn log (list of state-action pairs) and the final result.\n",
    "\n",
    "    Args:\n",
    "        turn_log (TurnLog): List of state-action pairs encountered during single gameplay\n",
    "        result (int): Final result of the game.\n",
    "\n",
    "    Return:\n",
    "        Experience: List of state-action-gain triples corresponding to every state-action pair encountered during a game.\n",
    "    \"\"\"\n",
    "    rewards = [0 for _ in turn_log]\n",
    "    rewards[-1] = result\n",
    "    gains = discounted_gains(rewards, gamma)\n",
    "    exp = [(s, a, g) for (s, a), g in zip(turn_log, gains)]\n",
    "    return exp"
   ]
  },
  {
   "cell_type": "markdown",
   "id": "b9a0bab0-c885-4e65-a99c-444777807fbf",
   "metadata": {},
   "source": [
    "We are now ready to actually implement the function to play games... \n",
    "\n",
    "Note that we have three distinct callback functions: one for the player, one for the dealer, and one for the game engine itself. This may seem excessive, but it will enable us to nicely track what is going on within a single game!"
   ]
  },
  {
   "cell_type": "code",
   "execution_count": 35,
   "id": "37d7898b-793d-426e-bb67-dbd73e04f07d",
   "metadata": {},
   "outputs": [],
   "source": [
    "def play_game(policy: Policy, \n",
    "              deck: CardDeck, \n",
    "              init_state: State | str | None = None,\n",
    "              init_action: Action | str | None = None,\n",
    "              gamma : float = 1.0,\n",
    "              game_report_callback: ReportCallback | None = None,\n",
    "              player_report_callback: ReportCallback | None = None,\n",
    "              dealer_report_callback: ReportCallback | None = None) -> tuple[int, Experience]:\n",
    "    \"\"\"A single game of Blackjack, played with the given policy.\n",
    "    \n",
    "    Args:\n",
    "        policy (Policy): the decision policy to use during gameplay\n",
    "        init_state (State | str | None): specification of the initial state, see `get_init_state`\n",
    "        init_action (Action | str | None): specification of the initial action, see `get_init_action`\n",
    "        gamma (float): discount factor\n",
    "        game_report_callback (ReportCallback | None): report callback used for the events generated by the game \"engine\"\n",
    "        player_report_callback (ReportCallback | None): report callback used for the player actions\n",
    "        dealer_report_callback (ReportCallback | None): report callback used for the dealer actions\n",
    "\n",
    "    Return:\n",
    "        int: The result of the game: +1 for win, 0 for draw, -1 for loss\n",
    "        Experience: experience accumulated during the game \n",
    "    \"\"\"\n",
    "    report = lambda txt: game_report_callback and game_report_callback(txt)\n",
    "    state = get_init_state(init_state, deck)\n",
    "    action = get_init_action(init_action, state, policy)\n",
    "    player_total, turn_log = play_turn(policy, deck, init_state=state, init_action=action, report_callback=player_report_callback)\n",
    "    if player_total is not None:\n",
    "        dealer_card = CardValue(state.dealer_total) if state.dealer_total != 11 else CardValue.ACE\n",
    "        dealer_total, dealer_has_ace = update_total(0, False, dealer_card)\n",
    "        dealer_state = State(dealer_total, dealer_has_ace, 0)\n",
    "        dealer_total, _ = play_turn(dealer_policy, deck, init_state=dealer_state, report_callback=dealer_report_callback)\n",
    "        if dealer_total is not None:\n",
    "            if player_total > dealer_total:\n",
    "                result = +1\n",
    "            elif player_total == dealer_total:\n",
    "                result = 0\n",
    "            else:\n",
    "                result = -1\n",
    "        else:\n",
    "            result = +1\n",
    "    else:\n",
    "        result = -1\n",
    "    exp = build_experience(turn_log, result, gamma)\n",
    "    if result == 1:\n",
    "        report(\"Player WINS\")\n",
    "    elif result == 0:\n",
    "        report(\"Game DRAW\")\n",
    "    else:\n",
    "        report(\"Player LOSES\")\n",
    "    return result, exp"
   ]
  },
  {
   "cell_type": "markdown",
   "id": "beb19c52-1994-4bbb-91bd-f6f81fa25f74",
   "metadata": {},
   "source": [
    "In order to test the last function, let us define some handy report callbacks. We will use prefixes and color-coding to nicely highlight reports from different \"actors\" (player, dealer, and the game \"engine\" itself)."
   ]
  },
  {
   "cell_type": "code",
   "execution_count": 70,
   "id": "ecdb58ff-815b-42e5-8f5f-970ff80b7aa6",
   "metadata": {},
   "outputs": [],
   "source": [
    "player_report_callback = lambda txt: print(f\"[bold yellow]PLAYER:[/] {txt}\")\n",
    "dealer_report_callback = lambda txt: print(f\"[bold cyan]DEALER:[/] {txt}\")\n",
    "game_report_callback = lambda txt: print(f\"[bold red]{txt}[/]\")\n",
    "\n",
    "callbacks = {\n",
    "    \"player_report_callback\": player_report_callback,\n",
    "    \"dealer_report_callback\": dealer_report_callback,\n",
    "    \"game_report_callback\": game_report_callback\n",
    "}"
   ]
  },
  {
   "cell_type": "markdown",
   "id": "8ebf0df4-3d33-494f-b3ff-6d45a1fd786a",
   "metadata": {},
   "source": [
    "Let us play a bit with the two above-defined policies. Later we will show that the dealer policy is considerably more meaningfull than the random one (as expected!)"
   ]
  },
  {
   "cell_type": "markdown",
   "id": "c37bab7c-cca3-4a52-b9d2-46b0cd858410",
   "metadata": {},
   "source": [
    "Notice the manner in which the callback are passed to the `play_game` function. We first collect them into a dictionary where the keys are strings equal to the corresponding keyword parameter names of the `play_game` function. The values are the callback themselves. The syntax `**callbacks` (the leading `**`) \"unpacks\" this dictionary into sequence of key-value pairs which are given to the `play_game` function as named parameters."
   ]
  },
  {
   "cell_type": "code",
   "execution_count": 71,
   "id": "53bb5df3-1ba6-434d-9702-1100c687aedc",
   "metadata": {},
   "outputs": [
    {
     "data": {
      "text/html": [
       "<pre style=\"white-space:pre;overflow-x:auto;line-height:normal;font-family:Menlo,'DejaVu Sans Mono',consolas,'Courier New',monospace\"><span style=\"color: #808000; text-decoration-color: #808000; font-weight: bold\">PLAYER:</span> <span style=\"font-weight: bold\">initial state</span> <span style=\"font-weight: bold\">(</span><span style=\"color: #008080; text-decoration-color: #008080; font-weight: bold\">8</span>, <span style=\"color: #ff0000; text-decoration-color: #ff0000; font-style: italic\">False</span>, <span style=\"color: #008080; text-decoration-color: #008080; font-weight: bold\">3</span><span style=\"font-weight: bold\">)</span>\n",
       "</pre>\n"
      ],
      "text/plain": [
       "\u001b[1;33mPLAYER:\u001b[0m \u001b[1minitial state\u001b[0m \u001b[1m(\u001b[0m\u001b[1;36m8\u001b[0m, \u001b[3;91mFalse\u001b[0m, \u001b[1;36m3\u001b[0m\u001b[1m)\u001b[0m\n"
      ]
     },
     "metadata": {},
     "output_type": "display_data"
    },
    {
     "data": {
      "text/html": [
       "<pre style=\"white-space:pre;overflow-x:auto;line-height:normal;font-family:Menlo,'DejaVu Sans Mono',consolas,'Courier New',monospace\"><span style=\"color: #808000; text-decoration-color: #808000; font-weight: bold\">PLAYER:</span> initial total <span style=\"color: #008080; text-decoration-color: #008080; font-weight: bold\">8</span> with ACE <span style=\"color: #ff0000; text-decoration-color: #ff0000; font-style: italic\">False</span> =&gt; <span style=\"font-weight: bold\">initial action</span> Action.HIT\n",
       "</pre>\n"
      ],
      "text/plain": [
       "\u001b[1;33mPLAYER:\u001b[0m initial total \u001b[1;36m8\u001b[0m with ACE \u001b[3;91mFalse\u001b[0m => \u001b[1minitial action\u001b[0m Action.HIT\n"
      ]
     },
     "metadata": {},
     "output_type": "display_data"
    },
    {
     "data": {
      "text/html": [
       "<pre style=\"white-space:pre;overflow-x:auto;line-height:normal;font-family:Menlo,'DejaVu Sans Mono',consolas,'Courier New',monospace\"><span style=\"color: #808000; text-decoration-color: #808000; font-weight: bold\">PLAYER:</span> card drawn <span style=\"color: #008080; text-decoration-color: #008080; font-weight: bold\">9</span>♥ =&gt; total <span style=\"color: #008080; text-decoration-color: #008080; font-weight: bold\">17</span> with ACE <span style=\"color: #ff0000; text-decoration-color: #ff0000; font-style: italic\">False</span> =&gt; action chosen Action.HOLD\n",
       "</pre>\n"
      ],
      "text/plain": [
       "\u001b[1;33mPLAYER:\u001b[0m card drawn \u001b[1;36m9\u001b[0m♥ => total \u001b[1;36m17\u001b[0m with ACE \u001b[3;91mFalse\u001b[0m => action chosen Action.HOLD\n"
      ]
     },
     "metadata": {},
     "output_type": "display_data"
    },
    {
     "data": {
      "text/html": [
       "<pre style=\"white-space:pre;overflow-x:auto;line-height:normal;font-family:Menlo,'DejaVu Sans Mono',consolas,'Courier New',monospace\"><span style=\"color: #808000; text-decoration-color: #808000; font-weight: bold\">PLAYER:</span> turn finished with final total <span style=\"color: #008080; text-decoration-color: #008080; font-weight: bold\">17</span>\n",
       "</pre>\n"
      ],
      "text/plain": [
       "\u001b[1;33mPLAYER:\u001b[0m turn finished with final total \u001b[1;36m17\u001b[0m\n"
      ]
     },
     "metadata": {},
     "output_type": "display_data"
    },
    {
     "data": {
      "text/html": [
       "<pre style=\"white-space:pre;overflow-x:auto;line-height:normal;font-family:Menlo,'DejaVu Sans Mono',consolas,'Courier New',monospace\"><span style=\"color: #008080; text-decoration-color: #008080; font-weight: bold\">DEALER:</span> <span style=\"font-weight: bold\">initial state</span> <span style=\"font-weight: bold\">(</span><span style=\"color: #008080; text-decoration-color: #008080; font-weight: bold\">3</span>, <span style=\"color: #ff0000; text-decoration-color: #ff0000; font-style: italic\">False</span>, <span style=\"color: #008080; text-decoration-color: #008080; font-weight: bold\">0</span><span style=\"font-weight: bold\">)</span>\n",
       "</pre>\n"
      ],
      "text/plain": [
       "\u001b[1;36mDEALER:\u001b[0m \u001b[1minitial state\u001b[0m \u001b[1m(\u001b[0m\u001b[1;36m3\u001b[0m, \u001b[3;91mFalse\u001b[0m, \u001b[1;36m0\u001b[0m\u001b[1m)\u001b[0m\n"
      ]
     },
     "metadata": {},
     "output_type": "display_data"
    },
    {
     "data": {
      "text/html": [
       "<pre style=\"white-space:pre;overflow-x:auto;line-height:normal;font-family:Menlo,'DejaVu Sans Mono',consolas,'Courier New',monospace\"><span style=\"color: #008080; text-decoration-color: #008080; font-weight: bold\">DEALER:</span> initial total <span style=\"color: #008080; text-decoration-color: #008080; font-weight: bold\">3</span> with ACE <span style=\"color: #ff0000; text-decoration-color: #ff0000; font-style: italic\">False</span> =&gt; <span style=\"font-weight: bold\">initial action</span> Action.HIT\n",
       "</pre>\n"
      ],
      "text/plain": [
       "\u001b[1;36mDEALER:\u001b[0m initial total \u001b[1;36m3\u001b[0m with ACE \u001b[3;91mFalse\u001b[0m => \u001b[1minitial action\u001b[0m Action.HIT\n"
      ]
     },
     "metadata": {},
     "output_type": "display_data"
    },
    {
     "data": {
      "text/html": [
       "<pre style=\"white-space:pre;overflow-x:auto;line-height:normal;font-family:Menlo,'DejaVu Sans Mono',consolas,'Courier New',monospace\"><span style=\"color: #008080; text-decoration-color: #008080; font-weight: bold\">DEALER:</span> card drawn A♠ =&gt; total <span style=\"color: #008080; text-decoration-color: #008080; font-weight: bold\">14</span> with ACE <span style=\"color: #00ff00; text-decoration-color: #00ff00; font-style: italic\">True</span> =&gt; action chosen Action.HIT\n",
       "</pre>\n"
      ],
      "text/plain": [
       "\u001b[1;36mDEALER:\u001b[0m card drawn A♠ => total \u001b[1;36m14\u001b[0m with ACE \u001b[3;92mTrue\u001b[0m => action chosen Action.HIT\n"
      ]
     },
     "metadata": {},
     "output_type": "display_data"
    },
    {
     "data": {
      "text/html": [
       "<pre style=\"white-space:pre;overflow-x:auto;line-height:normal;font-family:Menlo,'DejaVu Sans Mono',consolas,'Courier New',monospace\"><span style=\"color: #008080; text-decoration-color: #008080; font-weight: bold\">DEALER:</span> card drawn <span style=\"color: #008080; text-decoration-color: #008080; font-weight: bold\">7</span>♥ =&gt; total <span style=\"color: #008080; text-decoration-color: #008080; font-weight: bold\">21</span> with ACE <span style=\"color: #00ff00; text-decoration-color: #00ff00; font-style: italic\">True</span> =&gt; action chosen Action.HOLD\n",
       "</pre>\n"
      ],
      "text/plain": [
       "\u001b[1;36mDEALER:\u001b[0m card drawn \u001b[1;36m7\u001b[0m♥ => total \u001b[1;36m21\u001b[0m with ACE \u001b[3;92mTrue\u001b[0m => action chosen Action.HOLD\n"
      ]
     },
     "metadata": {},
     "output_type": "display_data"
    },
    {
     "data": {
      "text/html": [
       "<pre style=\"white-space:pre;overflow-x:auto;line-height:normal;font-family:Menlo,'DejaVu Sans Mono',consolas,'Courier New',monospace\"><span style=\"color: #008080; text-decoration-color: #008080; font-weight: bold\">DEALER:</span> turn finished with final total <span style=\"color: #008080; text-decoration-color: #008080; font-weight: bold\">21</span>\n",
       "</pre>\n"
      ],
      "text/plain": [
       "\u001b[1;36mDEALER:\u001b[0m turn finished with final total \u001b[1;36m21\u001b[0m\n"
      ]
     },
     "metadata": {},
     "output_type": "display_data"
    },
    {
     "data": {
      "text/html": [
       "<pre style=\"white-space:pre;overflow-x:auto;line-height:normal;font-family:Menlo,'DejaVu Sans Mono',consolas,'Courier New',monospace\"><span style=\"color: #800000; text-decoration-color: #800000; font-weight: bold\">Player LOSES</span>\n",
       "</pre>\n"
      ],
      "text/plain": [
       "\u001b[1;31mPlayer LOSES\u001b[0m\n"
      ]
     },
     "metadata": {},
     "output_type": "display_data"
    },
    {
     "data": {
      "text/plain": [
       "(-1, [((8, False, 3), HIT, -1.0), ((17, False, 3), HOLD, -1)])"
      ]
     },
     "execution_count": 71,
     "metadata": {},
     "output_type": "execute_result"
    }
   ],
   "source": [
    "# Playing the game using the random policy\n",
    "play_game(random_policy, deck, **callbacks)"
   ]
  },
  {
   "cell_type": "code",
   "execution_count": 38,
   "id": "41708643-0777-486b-b710-f8039878da40",
   "metadata": {},
   "outputs": [
    {
     "data": {
      "text/html": [
       "<pre style=\"white-space:pre;overflow-x:auto;line-height:normal;font-family:Menlo,'DejaVu Sans Mono',consolas,'Courier New',monospace\">PLAYER: <span style=\"font-weight: bold\">initial state</span> <span style=\"font-weight: bold\">(</span><span style=\"color: #008080; text-decoration-color: #008080; font-weight: bold\">11</span>, <span style=\"color: #00ff00; text-decoration-color: #00ff00; font-style: italic\">True</span>, <span style=\"color: #008080; text-decoration-color: #008080; font-weight: bold\">6</span><span style=\"font-weight: bold\">)</span>\n",
       "</pre>\n"
      ],
      "text/plain": [
       "PLAYER: \u001b[1minitial state\u001b[0m \u001b[1m(\u001b[0m\u001b[1;36m11\u001b[0m, \u001b[3;92mTrue\u001b[0m, \u001b[1;36m6\u001b[0m\u001b[1m)\u001b[0m\n"
      ]
     },
     "metadata": {},
     "output_type": "display_data"
    },
    {
     "data": {
      "text/html": [
       "<pre style=\"white-space:pre;overflow-x:auto;line-height:normal;font-family:Menlo,'DejaVu Sans Mono',consolas,'Courier New',monospace\">PLAYER: initial total <span style=\"color: #008080; text-decoration-color: #008080; font-weight: bold\">11</span> with ACE <span style=\"color: #00ff00; text-decoration-color: #00ff00; font-style: italic\">True</span> =&gt; <span style=\"font-weight: bold\">initial action</span> Action.HIT\n",
       "</pre>\n"
      ],
      "text/plain": [
       "PLAYER: initial total \u001b[1;36m11\u001b[0m with ACE \u001b[3;92mTrue\u001b[0m => \u001b[1minitial action\u001b[0m Action.HIT\n"
      ]
     },
     "metadata": {},
     "output_type": "display_data"
    },
    {
     "data": {
      "text/html": [
       "<pre style=\"white-space:pre;overflow-x:auto;line-height:normal;font-family:Menlo,'DejaVu Sans Mono',consolas,'Courier New',monospace\">PLAYER: card drawn <span style=\"color: #008080; text-decoration-color: #008080; font-weight: bold\">9</span>♠ =&gt; total <span style=\"color: #008080; text-decoration-color: #008080; font-weight: bold\">20</span> with ACE <span style=\"color: #00ff00; text-decoration-color: #00ff00; font-style: italic\">True</span> =&gt; action chosen Action.HOLD\n",
       "</pre>\n"
      ],
      "text/plain": [
       "PLAYER: card drawn \u001b[1;36m9\u001b[0m♠ => total \u001b[1;36m20\u001b[0m with ACE \u001b[3;92mTrue\u001b[0m => action chosen Action.HOLD\n"
      ]
     },
     "metadata": {},
     "output_type": "display_data"
    },
    {
     "data": {
      "text/html": [
       "<pre style=\"white-space:pre;overflow-x:auto;line-height:normal;font-family:Menlo,'DejaVu Sans Mono',consolas,'Courier New',monospace\">PLAYER: turn finished with final total <span style=\"color: #008080; text-decoration-color: #008080; font-weight: bold\">20</span>\n",
       "</pre>\n"
      ],
      "text/plain": [
       "PLAYER: turn finished with final total \u001b[1;36m20\u001b[0m\n"
      ]
     },
     "metadata": {},
     "output_type": "display_data"
    },
    {
     "data": {
      "text/html": [
       "<pre style=\"white-space:pre;overflow-x:auto;line-height:normal;font-family:Menlo,'DejaVu Sans Mono',consolas,'Courier New',monospace\"><span style=\"color: #008080; text-decoration-color: #008080; font-weight: bold\">DEALER:</span> <span style=\"font-weight: bold\">initial state</span> <span style=\"font-weight: bold\">(</span><span style=\"color: #008080; text-decoration-color: #008080; font-weight: bold\">6</span>, <span style=\"color: #ff0000; text-decoration-color: #ff0000; font-style: italic\">False</span>, <span style=\"color: #008080; text-decoration-color: #008080; font-weight: bold\">0</span><span style=\"font-weight: bold\">)</span>\n",
       "</pre>\n"
      ],
      "text/plain": [
       "\u001b[1;36mDEALER:\u001b[0m \u001b[1minitial state\u001b[0m \u001b[1m(\u001b[0m\u001b[1;36m6\u001b[0m, \u001b[3;91mFalse\u001b[0m, \u001b[1;36m0\u001b[0m\u001b[1m)\u001b[0m\n"
      ]
     },
     "metadata": {},
     "output_type": "display_data"
    },
    {
     "data": {
      "text/html": [
       "<pre style=\"white-space:pre;overflow-x:auto;line-height:normal;font-family:Menlo,'DejaVu Sans Mono',consolas,'Courier New',monospace\"><span style=\"color: #008080; text-decoration-color: #008080; font-weight: bold\">DEALER:</span> initial total <span style=\"color: #008080; text-decoration-color: #008080; font-weight: bold\">6</span> with ACE <span style=\"color: #ff0000; text-decoration-color: #ff0000; font-style: italic\">False</span> =&gt; <span style=\"font-weight: bold\">initial action</span> Action.HIT\n",
       "</pre>\n"
      ],
      "text/plain": [
       "\u001b[1;36mDEALER:\u001b[0m initial total \u001b[1;36m6\u001b[0m with ACE \u001b[3;91mFalse\u001b[0m => \u001b[1minitial action\u001b[0m Action.HIT\n"
      ]
     },
     "metadata": {},
     "output_type": "display_data"
    },
    {
     "data": {
      "text/html": [
       "<pre style=\"white-space:pre;overflow-x:auto;line-height:normal;font-family:Menlo,'DejaVu Sans Mono',consolas,'Courier New',monospace\"><span style=\"color: #008080; text-decoration-color: #008080; font-weight: bold\">DEALER:</span> card drawn <span style=\"color: #008080; text-decoration-color: #008080; font-weight: bold\">6</span>♥ =&gt; total <span style=\"color: #008080; text-decoration-color: #008080; font-weight: bold\">12</span> with ACE <span style=\"color: #ff0000; text-decoration-color: #ff0000; font-style: italic\">False</span> =&gt; action chosen Action.HIT\n",
       "</pre>\n"
      ],
      "text/plain": [
       "\u001b[1;36mDEALER:\u001b[0m card drawn \u001b[1;36m6\u001b[0m♥ => total \u001b[1;36m12\u001b[0m with ACE \u001b[3;91mFalse\u001b[0m => action chosen Action.HIT\n"
      ]
     },
     "metadata": {},
     "output_type": "display_data"
    },
    {
     "data": {
      "text/html": [
       "<pre style=\"white-space:pre;overflow-x:auto;line-height:normal;font-family:Menlo,'DejaVu Sans Mono',consolas,'Courier New',monospace\"><span style=\"color: #008080; text-decoration-color: #008080; font-weight: bold\">DEALER:</span> turned finished - <span style=\"font-weight: bold\">BUSTED!</span> card drawn D♥ =&gt; total <span style=\"color: #008080; text-decoration-color: #008080; font-weight: bold\">22</span> with ACE <span style=\"color: #ff0000; text-decoration-color: #ff0000; font-style: italic\">False</span>\n",
       "</pre>\n"
      ],
      "text/plain": [
       "\u001b[1;36mDEALER:\u001b[0m turned finished - \u001b[1mBUSTED!\u001b[0m card drawn D♥ => total \u001b[1;36m22\u001b[0m with ACE \u001b[3;91mFalse\u001b[0m\n"
      ]
     },
     "metadata": {},
     "output_type": "display_data"
    },
    {
     "data": {
      "text/html": [
       "<pre style=\"white-space:pre;overflow-x:auto;line-height:normal;font-family:Menlo,'DejaVu Sans Mono',consolas,'Courier New',monospace\"><span style=\"color: #800000; text-decoration-color: #800000; font-weight: bold\">Player WINS</span>\n",
       "</pre>\n"
      ],
      "text/plain": [
       "\u001b[1;31mPlayer WINS\u001b[0m\n"
      ]
     },
     "metadata": {},
     "output_type": "display_data"
    },
    {
     "data": {
      "text/plain": [
       "(1, [((11, True, 6), HIT, 1.0), ((20, True, 6), HOLD, 1)])"
      ]
     },
     "execution_count": 38,
     "metadata": {},
     "output_type": "execute_result"
    }
   ],
   "source": [
    "# Playing the game using the dealer policy\n",
    "play_game(dealer_policy, deck, **callbacks)"
   ]
  },
  {
   "cell_type": "markdown",
   "id": "a96a2a19-8ad1-4e39-b8b6-883c9e9bab62",
   "metadata": {},
   "source": [
    "Finally, let us define a function that will enable us to apply (and test) different policies. This function will play many games, collect experience and compute the ratio of wins, draws, and losses.\n",
    "\n",
    "But first, we must define **experience** more precisely! Experience is a list of states, actions and gains seen during playtime. In otherwords, to each state-action pair seen in each turn we must associate the total gain received during that game from this point on (possibly discounted by a suitable discount factor - $\\gamma$)"
   ]
  },
  {
   "cell_type": "code",
   "execution_count": 39,
   "id": "093af35c-d25c-454b-965d-e44a31dbb46f",
   "metadata": {},
   "outputs": [],
   "source": [
    "@dataclass\n",
    "class PolicyTestingResult:\n",
    "    games_no: int\n",
    "    score: int\n",
    "    wins: float\n",
    "    draws: float\n",
    "    losses: float\n",
    "\n",
    "    def loss_per_game(self):\n",
    "        \"\"\"Average loss per game.\"\"\"\n",
    "        return self.score/self.games_no\n",
    "\n",
    "    def __repr__(self):\n",
    "        return f\"total score={self.score}/{self.games_no} games ({self.loss_per_game():.4f} per game) :: W {self.wins*100:.2f}% | D {self.draws*100:.2f}% | L {self.losses*100:.2f}%\""
   ]
  },
  {
   "cell_type": "markdown",
   "id": "7930579c-9cb1-4050-bcbe-bb548f4574e6",
   "metadata": {},
   "source": [
    "We will make two different methods for evaluating policies. The first one chooses initial states and actions randomly in each run. The second one repeatedly enumerates through all possible states and all possible actions, and uses all possible combinations of the initial state-action pair. The enumerated version is possible only because the number of states in (this version of) Blackjack is not high."
   ]
  },
  {
   "cell_type": "code",
   "execution_count": 40,
   "id": "ab3df463-1b99-4625-ab3f-158c25747fda",
   "metadata": {},
   "outputs": [],
   "source": [
    "def apply_policy(policy: Policy, deck: CardDeck, games_no=1000, gamma=1, random_init_state=False, random_init_action=False) -> tuple[PolicyTestingResult, Experience]:\n",
    "    wins, losses, draws, score = 0, 0, 0, 0\n",
    "    init_action = \"random\" if random_init_action else None\n",
    "    init_state = \"random\" if random_init_state else None\n",
    "    experience = []\n",
    "    for k in range(games_no):\n",
    "        res, exp = play_game(policy, deck, gamma=gamma, init_state=init_state, init_action=init_action)\n",
    "        score += res\n",
    "        experience.extend(exp)\n",
    "        if res == 1:\n",
    "            wins += 1\n",
    "        elif res == 0:\n",
    "            draws += 1\n",
    "        else:\n",
    "            losses += 1\n",
    "    return PolicyTestingResult(games_no, score, wins/games_no, draws/games_no, losses/games_no), experience"
   ]
  },
  {
   "cell_type": "markdown",
   "id": "af187070-da8f-493c-a4d8-d27e0da30a36",
   "metadata": {},
   "source": [
    "Let us test the above function by playing just five games, to see what kind of objects it returns. The actual tests require many more games to be played, and this will be done shortly after..."
   ]
  },
  {
   "cell_type": "code",
   "execution_count": 41,
   "id": "4df102e5-324b-499d-bbb2-5e470c28cd38",
   "metadata": {},
   "outputs": [
    {
     "data": {
      "text/html": [
       "<pre style=\"white-space:pre;overflow-x:auto;line-height:normal;font-family:Menlo,'DejaVu Sans Mono',consolas,'Courier New',monospace\"><span style=\"font-weight: bold\">(</span>\n",
       "    total <span style=\"color: #808000; text-decoration-color: #808000\">score</span>=<span style=\"color: #008080; text-decoration-color: #008080; font-weight: bold\">-3</span>/<span style=\"color: #008080; text-decoration-color: #008080; font-weight: bold\">5</span> games <span style=\"font-weight: bold\">(</span><span style=\"color: #008080; text-decoration-color: #008080; font-weight: bold\">-0.6000</span> per game<span style=\"font-weight: bold\">)</span> :: W <span style=\"color: #008080; text-decoration-color: #008080; font-weight: bold\">20.00</span>% | D <span style=\"color: #008080; text-decoration-color: #008080; font-weight: bold\">0.00</span>% | L <span style=\"color: #008080; text-decoration-color: #008080; font-weight: bold\">80.00</span>%,\n",
       "    <span style=\"font-weight: bold\">[</span>\n",
       "        <span style=\"font-weight: bold\">((</span><span style=\"color: #008080; text-decoration-color: #008080; font-weight: bold\">6</span>, <span style=\"color: #ff0000; text-decoration-color: #ff0000; font-style: italic\">False</span>, <span style=\"color: #008080; text-decoration-color: #008080; font-weight: bold\">6</span><span style=\"font-weight: bold\">)</span>, HIT, <span style=\"color: #008080; text-decoration-color: #008080; font-weight: bold\">-0.9</span><span style=\"font-weight: bold\">)</span>,\n",
       "        <span style=\"font-weight: bold\">((</span><span style=\"color: #008080; text-decoration-color: #008080; font-weight: bold\">14</span>, <span style=\"color: #ff0000; text-decoration-color: #ff0000; font-style: italic\">False</span>, <span style=\"color: #008080; text-decoration-color: #008080; font-weight: bold\">6</span><span style=\"font-weight: bold\">)</span>, HIT, <span style=\"color: #008080; text-decoration-color: #008080; font-weight: bold\">-1</span><span style=\"font-weight: bold\">)</span>,\n",
       "        <span style=\"font-weight: bold\">((</span><span style=\"color: #008080; text-decoration-color: #008080; font-weight: bold\">11</span>, <span style=\"color: #00ff00; text-decoration-color: #00ff00; font-style: italic\">True</span>, <span style=\"color: #008080; text-decoration-color: #008080; font-weight: bold\">10</span><span style=\"font-weight: bold\">)</span>, HIT, <span style=\"color: #008080; text-decoration-color: #008080; font-weight: bold\">-0.9</span><span style=\"font-weight: bold\">)</span>,\n",
       "        <span style=\"font-weight: bold\">((</span><span style=\"color: #008080; text-decoration-color: #008080; font-weight: bold\">16</span>, <span style=\"color: #00ff00; text-decoration-color: #00ff00; font-style: italic\">True</span>, <span style=\"color: #008080; text-decoration-color: #008080; font-weight: bold\">10</span><span style=\"font-weight: bold\">)</span>, HOLD, <span style=\"color: #008080; text-decoration-color: #008080; font-weight: bold\">-1</span><span style=\"font-weight: bold\">)</span>,\n",
       "        <span style=\"font-weight: bold\">((</span><span style=\"color: #008080; text-decoration-color: #008080; font-weight: bold\">7</span>, <span style=\"color: #ff0000; text-decoration-color: #ff0000; font-style: italic\">False</span>, <span style=\"color: #008080; text-decoration-color: #008080; font-weight: bold\">6</span><span style=\"font-weight: bold\">)</span>, HOLD, <span style=\"color: #008080; text-decoration-color: #008080; font-weight: bold\">-1</span><span style=\"font-weight: bold\">)</span>,\n",
       "        <span style=\"font-weight: bold\">((</span><span style=\"color: #008080; text-decoration-color: #008080; font-weight: bold\">7</span>, <span style=\"color: #ff0000; text-decoration-color: #ff0000; font-style: italic\">False</span>, <span style=\"color: #008080; text-decoration-color: #008080; font-weight: bold\">7</span><span style=\"font-weight: bold\">)</span>, HIT, <span style=\"color: #008080; text-decoration-color: #008080; font-weight: bold\">-0.81</span><span style=\"font-weight: bold\">)</span>,\n",
       "        <span style=\"font-weight: bold\">((</span><span style=\"color: #008080; text-decoration-color: #008080; font-weight: bold\">10</span>, <span style=\"color: #ff0000; text-decoration-color: #ff0000; font-style: italic\">False</span>, <span style=\"color: #008080; text-decoration-color: #008080; font-weight: bold\">7</span><span style=\"font-weight: bold\">)</span>, HIT, <span style=\"color: #008080; text-decoration-color: #008080; font-weight: bold\">-0.9</span><span style=\"font-weight: bold\">)</span>,\n",
       "        <span style=\"font-weight: bold\">((</span><span style=\"color: #008080; text-decoration-color: #008080; font-weight: bold\">20</span>, <span style=\"color: #ff0000; text-decoration-color: #ff0000; font-style: italic\">False</span>, <span style=\"color: #008080; text-decoration-color: #008080; font-weight: bold\">7</span><span style=\"font-weight: bold\">)</span>, HIT, <span style=\"color: #008080; text-decoration-color: #008080; font-weight: bold\">-1</span><span style=\"font-weight: bold\">)</span>,\n",
       "        <span style=\"font-weight: bold\">((</span><span style=\"color: #008080; text-decoration-color: #008080; font-weight: bold\">6</span>, <span style=\"color: #ff0000; text-decoration-color: #ff0000; font-style: italic\">False</span>, <span style=\"color: #008080; text-decoration-color: #008080; font-weight: bold\">10</span><span style=\"font-weight: bold\">)</span>, HOLD, <span style=\"color: #008080; text-decoration-color: #008080; font-weight: bold\">1</span><span style=\"font-weight: bold\">)</span>\n",
       "    <span style=\"font-weight: bold\">]</span>\n",
       "<span style=\"font-weight: bold\">)</span>\n",
       "</pre>\n"
      ],
      "text/plain": [
       "\u001b[1m(\u001b[0m\n",
       "    total \u001b[33mscore\u001b[0m=\u001b[1;36m-3\u001b[0m/\u001b[1;36m5\u001b[0m games \u001b[1m(\u001b[0m\u001b[1;36m-0.6000\u001b[0m per game\u001b[1m)\u001b[0m :: W \u001b[1;36m20.00\u001b[0m% | D \u001b[1;36m0.00\u001b[0m% | L \u001b[1;36m80.00\u001b[0m%,\n",
       "    \u001b[1m[\u001b[0m\n",
       "        \u001b[1m(\u001b[0m\u001b[1m(\u001b[0m\u001b[1;36m6\u001b[0m, \u001b[3;91mFalse\u001b[0m, \u001b[1;36m6\u001b[0m\u001b[1m)\u001b[0m, HIT, \u001b[1;36m-0.9\u001b[0m\u001b[1m)\u001b[0m,\n",
       "        \u001b[1m(\u001b[0m\u001b[1m(\u001b[0m\u001b[1;36m14\u001b[0m, \u001b[3;91mFalse\u001b[0m, \u001b[1;36m6\u001b[0m\u001b[1m)\u001b[0m, HIT, \u001b[1;36m-1\u001b[0m\u001b[1m)\u001b[0m,\n",
       "        \u001b[1m(\u001b[0m\u001b[1m(\u001b[0m\u001b[1;36m11\u001b[0m, \u001b[3;92mTrue\u001b[0m, \u001b[1;36m10\u001b[0m\u001b[1m)\u001b[0m, HIT, \u001b[1;36m-0.9\u001b[0m\u001b[1m)\u001b[0m,\n",
       "        \u001b[1m(\u001b[0m\u001b[1m(\u001b[0m\u001b[1;36m16\u001b[0m, \u001b[3;92mTrue\u001b[0m, \u001b[1;36m10\u001b[0m\u001b[1m)\u001b[0m, HOLD, \u001b[1;36m-1\u001b[0m\u001b[1m)\u001b[0m,\n",
       "        \u001b[1m(\u001b[0m\u001b[1m(\u001b[0m\u001b[1;36m7\u001b[0m, \u001b[3;91mFalse\u001b[0m, \u001b[1;36m6\u001b[0m\u001b[1m)\u001b[0m, HOLD, \u001b[1;36m-1\u001b[0m\u001b[1m)\u001b[0m,\n",
       "        \u001b[1m(\u001b[0m\u001b[1m(\u001b[0m\u001b[1;36m7\u001b[0m, \u001b[3;91mFalse\u001b[0m, \u001b[1;36m7\u001b[0m\u001b[1m)\u001b[0m, HIT, \u001b[1;36m-0.81\u001b[0m\u001b[1m)\u001b[0m,\n",
       "        \u001b[1m(\u001b[0m\u001b[1m(\u001b[0m\u001b[1;36m10\u001b[0m, \u001b[3;91mFalse\u001b[0m, \u001b[1;36m7\u001b[0m\u001b[1m)\u001b[0m, HIT, \u001b[1;36m-0.9\u001b[0m\u001b[1m)\u001b[0m,\n",
       "        \u001b[1m(\u001b[0m\u001b[1m(\u001b[0m\u001b[1;36m20\u001b[0m, \u001b[3;91mFalse\u001b[0m, \u001b[1;36m7\u001b[0m\u001b[1m)\u001b[0m, HIT, \u001b[1;36m-1\u001b[0m\u001b[1m)\u001b[0m,\n",
       "        \u001b[1m(\u001b[0m\u001b[1m(\u001b[0m\u001b[1;36m6\u001b[0m, \u001b[3;91mFalse\u001b[0m, \u001b[1;36m10\u001b[0m\u001b[1m)\u001b[0m, HOLD, \u001b[1;36m1\u001b[0m\u001b[1m)\u001b[0m\n",
       "    \u001b[1m]\u001b[0m\n",
       "\u001b[1m)\u001b[0m\n"
      ]
     },
     "metadata": {},
     "output_type": "display_data"
    }
   ],
   "source": [
    "res = apply_policy(random_policy, deck, 5, gamma=0.9)\n",
    "print(res)"
   ]
  },
  {
   "cell_type": "markdown",
   "id": "7fdb48d4-cd5a-46ee-855b-892110bb330a",
   "metadata": {},
   "source": [
    "## Comparative Performance of the Random and Dealer's Policy (when used by the Player)"
   ]
  },
  {
   "cell_type": "markdown",
   "id": "da7c893c-3a94-471e-9d68-57129d4db9c5",
   "metadata": {},
   "source": [
    "Now, we are ready to perform the actual testing. We will test both previously defined policies: the purely explorative random policy and (as we will soon see: near optimal) dealer's policy. The measurement will be performed by both previously defined functions."
   ]
  },
  {
   "cell_type": "code",
   "execution_count": 42,
   "id": "1cdb83f5-617e-41f7-96d2-9ca776d776cb",
   "metadata": {},
   "outputs": [
    {
     "data": {
      "text/html": [
       "<pre style=\"white-space:pre;overflow-x:auto;line-height:normal;font-family:Menlo,'DejaVu Sans Mono',consolas,'Courier New',monospace\">total <span style=\"color: #808000; text-decoration-color: #808000\">score</span>=<span style=\"color: #008080; text-decoration-color: #008080; font-weight: bold\">-4008</span>/<span style=\"color: #008080; text-decoration-color: #008080; font-weight: bold\">10000</span> games <span style=\"font-weight: bold\">(</span><span style=\"color: #008080; text-decoration-color: #008080; font-weight: bold\">-0.4008</span> per game<span style=\"font-weight: bold\">)</span> :: W <span style=\"color: #008080; text-decoration-color: #008080; font-weight: bold\">28.86</span>% | D <span style=\"color: #008080; text-decoration-color: #008080; font-weight: bold\">2.20</span>% | L <span style=\"color: #008080; text-decoration-color: #008080; font-weight: bold\">68.94</span>%\n",
       "</pre>\n"
      ],
      "text/plain": [
       "total \u001b[33mscore\u001b[0m=\u001b[1;36m-4008\u001b[0m/\u001b[1;36m10000\u001b[0m games \u001b[1m(\u001b[0m\u001b[1;36m-0.4008\u001b[0m per game\u001b[1m)\u001b[0m :: W \u001b[1;36m28.86\u001b[0m% | D \u001b[1;36m2.20\u001b[0m% | L \u001b[1;36m68.94\u001b[0m%\n"
      ]
     },
     "metadata": {},
     "output_type": "display_data"
    }
   ],
   "source": [
    "res, _ = apply_policy(random_policy, deck, 10000)\n",
    "print(res)"
   ]
  },
  {
   "cell_type": "code",
   "execution_count": 43,
   "id": "4255bf55-26c2-4979-8ecb-e08e121514ea",
   "metadata": {},
   "outputs": [
    {
     "data": {
      "text/html": [
       "<pre style=\"white-space:pre;overflow-x:auto;line-height:normal;font-family:Menlo,'DejaVu Sans Mono',consolas,'Courier New',monospace\">total <span style=\"color: #808000; text-decoration-color: #808000\">score</span>=<span style=\"color: #008080; text-decoration-color: #008080; font-weight: bold\">-562</span>/<span style=\"color: #008080; text-decoration-color: #008080; font-weight: bold\">10000</span> games <span style=\"font-weight: bold\">(</span><span style=\"color: #008080; text-decoration-color: #008080; font-weight: bold\">-0.0562</span> per game<span style=\"font-weight: bold\">)</span> :: W <span style=\"color: #008080; text-decoration-color: #008080; font-weight: bold\">42.15</span>% | D <span style=\"color: #008080; text-decoration-color: #008080; font-weight: bold\">10.08</span>% | L <span style=\"color: #008080; text-decoration-color: #008080; font-weight: bold\">47.77</span>%\n",
       "</pre>\n"
      ],
      "text/plain": [
       "total \u001b[33mscore\u001b[0m=\u001b[1;36m-562\u001b[0m/\u001b[1;36m10000\u001b[0m games \u001b[1m(\u001b[0m\u001b[1;36m-0.0562\u001b[0m per game\u001b[1m)\u001b[0m :: W \u001b[1;36m42.15\u001b[0m% | D \u001b[1;36m10.08\u001b[0m% | L \u001b[1;36m47.77\u001b[0m%\n"
      ]
     },
     "metadata": {},
     "output_type": "display_data"
    }
   ],
   "source": [
    "res, _ = apply_policy(dealer_policy, deck, 10000)\n",
    "print(res)"
   ]
  },
  {
   "cell_type": "markdown",
   "id": "e58a5402-7426-4d6f-b12c-c708d749f229",
   "metadata": {},
   "source": [
    "We see that the player using the same strategy as the dealer losses (roughly) about 0.08 \"points\" per game (the actual number varies since this is a stochastic game). It losses only slightly below 50% of the time, but manages to win in only slightly above 40% of the cases. The difference in gains between the actual dealer and the player acting as a dealer is due to the inherent assymetry of the game, and the fact that the dealer plays second, only after the player ended its turn, and only if the player is not busted!\n",
    "\n",
    "The above testing was performed using natural init state (the one obtained by drawing cards from the deck). Similar behavior may be observed when testing with completely random init state. In this way, however, we seem to observe a slightly better performance of the dealer's strategy (but also a slight improvement of the performance of the random strategy). The reason seems to be that in this way, there is some probability for the player to be \"teleported\" into a favorable initial state."
   ]
  },
  {
   "cell_type": "code",
   "execution_count": 44,
   "id": "d9c1a6c8-c3a6-491f-8406-db37862ffcd5",
   "metadata": {},
   "outputs": [
    {
     "data": {
      "text/html": [
       "<pre style=\"white-space:pre;overflow-x:auto;line-height:normal;font-family:Menlo,'DejaVu Sans Mono',consolas,'Courier New',monospace\">total <span style=\"color: #808000; text-decoration-color: #808000\">score</span>=<span style=\"color: #008080; text-decoration-color: #008080; font-weight: bold\">-3366</span>/<span style=\"color: #008080; text-decoration-color: #008080; font-weight: bold\">10000</span> games <span style=\"font-weight: bold\">(</span><span style=\"color: #008080; text-decoration-color: #008080; font-weight: bold\">-0.3366</span> per game<span style=\"font-weight: bold\">)</span> :: W <span style=\"color: #008080; text-decoration-color: #008080; font-weight: bold\">31.60</span>% | D <span style=\"color: #008080; text-decoration-color: #008080; font-weight: bold\">3.14</span>% | L <span style=\"color: #008080; text-decoration-color: #008080; font-weight: bold\">65.26</span>%\n",
       "</pre>\n"
      ],
      "text/plain": [
       "total \u001b[33mscore\u001b[0m=\u001b[1;36m-3366\u001b[0m/\u001b[1;36m10000\u001b[0m games \u001b[1m(\u001b[0m\u001b[1;36m-0.3366\u001b[0m per game\u001b[1m)\u001b[0m :: W \u001b[1;36m31.60\u001b[0m% | D \u001b[1;36m3.14\u001b[0m% | L \u001b[1;36m65.26\u001b[0m%\n"
      ]
     },
     "metadata": {},
     "output_type": "display_data"
    }
   ],
   "source": [
    "res, _ = apply_policy(random_policy, deck, 10000, random_init_state=True)\n",
    "print(res)"
   ]
  },
  {
   "cell_type": "code",
   "execution_count": 45,
   "id": "c469fcff-6be7-40cb-a13a-38b91db930ed",
   "metadata": {},
   "outputs": [
    {
     "data": {
      "text/html": [
       "<pre style=\"white-space:pre;overflow-x:auto;line-height:normal;font-family:Menlo,'DejaVu Sans Mono',consolas,'Courier New',monospace\">total <span style=\"color: #808000; text-decoration-color: #808000\">score</span>=<span style=\"color: #008080; text-decoration-color: #008080; font-weight: bold\">-120</span>/<span style=\"color: #008080; text-decoration-color: #008080; font-weight: bold\">10000</span> games <span style=\"font-weight: bold\">(</span><span style=\"color: #008080; text-decoration-color: #008080; font-weight: bold\">-0.0120</span> per game<span style=\"font-weight: bold\">)</span> :: W <span style=\"color: #008080; text-decoration-color: #008080; font-weight: bold\">44.12</span>% | D <span style=\"color: #008080; text-decoration-color: #008080; font-weight: bold\">10.56</span>% | L <span style=\"color: #008080; text-decoration-color: #008080; font-weight: bold\">45.32</span>%\n",
       "</pre>\n"
      ],
      "text/plain": [
       "total \u001b[33mscore\u001b[0m=\u001b[1;36m-120\u001b[0m/\u001b[1;36m10000\u001b[0m games \u001b[1m(\u001b[0m\u001b[1;36m-0.0120\u001b[0m per game\u001b[1m)\u001b[0m :: W \u001b[1;36m44.12\u001b[0m% | D \u001b[1;36m10.56\u001b[0m% | L \u001b[1;36m45.32\u001b[0m%\n"
      ]
     },
     "metadata": {},
     "output_type": "display_data"
    }
   ],
   "source": [
    "res, _ = apply_policy(dealer_policy, deck, 10000, random_init_state=True)\n",
    "print(res)"
   ]
  },
  {
   "cell_type": "markdown",
   "id": "8926ea1c-1ad7-432d-97ff-03d3183aa906",
   "metadata": {},
   "source": [
    "And also when using both completely random initial state and completely random initial action. Obviously, randomizing the initial action does not affect random policy (we essentially stay on policy in this case), but it does reduce the effectiveness of the dealer's policy."
   ]
  },
  {
   "cell_type": "code",
   "execution_count": 46,
   "id": "5ac6ae04-03db-4073-8969-f3f231e9cf0a",
   "metadata": {},
   "outputs": [
    {
     "data": {
      "text/html": [
       "<pre style=\"white-space:pre;overflow-x:auto;line-height:normal;font-family:Menlo,'DejaVu Sans Mono',consolas,'Courier New',monospace\">total <span style=\"color: #808000; text-decoration-color: #808000\">score</span>=<span style=\"color: #008080; text-decoration-color: #008080; font-weight: bold\">-3288</span>/<span style=\"color: #008080; text-decoration-color: #008080; font-weight: bold\">10000</span> games <span style=\"font-weight: bold\">(</span><span style=\"color: #008080; text-decoration-color: #008080; font-weight: bold\">-0.3288</span> per game<span style=\"font-weight: bold\">)</span> :: W <span style=\"color: #008080; text-decoration-color: #008080; font-weight: bold\">31.72</span>% | D <span style=\"color: #008080; text-decoration-color: #008080; font-weight: bold\">3.68</span>% | L <span style=\"color: #008080; text-decoration-color: #008080; font-weight: bold\">64.60</span>%\n",
       "</pre>\n"
      ],
      "text/plain": [
       "total \u001b[33mscore\u001b[0m=\u001b[1;36m-3288\u001b[0m/\u001b[1;36m10000\u001b[0m games \u001b[1m(\u001b[0m\u001b[1;36m-0.3288\u001b[0m per game\u001b[1m)\u001b[0m :: W \u001b[1;36m31.72\u001b[0m% | D \u001b[1;36m3.68\u001b[0m% | L \u001b[1;36m64.60\u001b[0m%\n"
      ]
     },
     "metadata": {},
     "output_type": "display_data"
    }
   ],
   "source": [
    "res, _ = apply_policy(random_policy, deck, 10000, random_init_state=True, random_init_action=True)\n",
    "print(res)"
   ]
  },
  {
   "cell_type": "code",
   "execution_count": 47,
   "id": "62100a2b-c795-4038-adfa-6ff9556ddf19",
   "metadata": {},
   "outputs": [
    {
     "data": {
      "text/html": [
       "<pre style=\"white-space:pre;overflow-x:auto;line-height:normal;font-family:Menlo,'DejaVu Sans Mono',consolas,'Courier New',monospace\">total <span style=\"color: #808000; text-decoration-color: #808000\">score</span>=<span style=\"color: #008080; text-decoration-color: #008080; font-weight: bold\">-2008</span>/<span style=\"color: #008080; text-decoration-color: #008080; font-weight: bold\">10000</span> games <span style=\"font-weight: bold\">(</span><span style=\"color: #008080; text-decoration-color: #008080; font-weight: bold\">-0.2008</span> per game<span style=\"font-weight: bold\">)</span> :: W <span style=\"color: #008080; text-decoration-color: #008080; font-weight: bold\">36.87</span>% | D <span style=\"color: #008080; text-decoration-color: #008080; font-weight: bold\">6.18</span>% | L <span style=\"color: #008080; text-decoration-color: #008080; font-weight: bold\">56.95</span>%\n",
       "</pre>\n"
      ],
      "text/plain": [
       "total \u001b[33mscore\u001b[0m=\u001b[1;36m-2008\u001b[0m/\u001b[1;36m10000\u001b[0m games \u001b[1m(\u001b[0m\u001b[1;36m-0.2008\u001b[0m per game\u001b[1m)\u001b[0m :: W \u001b[1;36m36.87\u001b[0m% | D \u001b[1;36m6.18\u001b[0m% | L \u001b[1;36m56.95\u001b[0m%\n"
      ]
     },
     "metadata": {},
     "output_type": "display_data"
    }
   ],
   "source": [
    "res, _ = apply_policy(dealer_policy, deck, 10000, random_init_state=True, random_init_action=True)\n",
    "print(res)"
   ]
  },
  {
   "cell_type": "markdown",
   "id": "eec722ea-405b-4314-b134-803eb29fcb66",
   "metadata": {},
   "source": [
    "## Learning a Decision Policy"
   ]
  },
  {
   "cell_type": "markdown",
   "id": "6faec29c-429e-47f5-a899-1476827ac370",
   "metadata": {},
   "source": [
    "In order to learn a decision policy, we will first implement a policy which is greedy with respect to a given Q-function. In this particular case, the Q-function will be implemented as a dictionary which returns a pair of value: the Q-value corresponding to HIT action, and the Q-value corresponding to HOLD action. \n",
    "\n",
    "If the Q-dictionary does not contain an entry for a given state, a random action will be returned. Otherwise, the action with the higher Q-value will be used. If some Q-values returned for the given state are missing (equal to `None`) random policy will be used. If the length of the returned array is different than expected, an error will be raised."
   ]
  },
  {
   "cell_type": "code",
   "execution_count": 48,
   "id": "365c37cd-1acc-4a63-9ffc-b743ac2e442e",
   "metadata": {},
   "outputs": [],
   "source": [
    "QDict = dict[State, tuple[float, float]]\n",
    "\n",
    "def create_greedy_policy(q_dict: QDict) -> Policy:\n",
    "    \"\"\"Create a greedy policy function based on the given Q-dictionary.\"\"\"\n",
    "    no_actions = len(list(Action))\n",
    "\n",
    "    def policy(s: State):\n",
    "        q_values = q_dict.get(s, None)\n",
    "        if q_values is not None:\n",
    "            assert len(q_values) == no_actions, f\"Invalid Q-dict for state {s}.\"\n",
    "            if any([v is None for v in q_values]):\n",
    "                return random_policy(s)\n",
    "            else: \n",
    "                ndx = np.argmax(q_values)\n",
    "                return Action(ndx)\n",
    "        else:\n",
    "            return random_policy(s)\n",
    "    \n",
    "    return policy"
   ]
  },
  {
   "cell_type": "markdown",
   "id": "d5bfbd11-7311-4b65-b35d-887fa07b4275",
   "metadata": {},
   "source": [
    "Now we need a function that will evaluate Q-dictionary based on the collected experience. In order to do so, we will first create a function that will go through the entire experience and to each encountered state-action pair it will associate a list of all associated gains.\n",
    "\n",
    "Taking into account the manner in which we organize data, the actual resulting data-type will be somewhat different: it will be a dictionary with keys corresponding to states and values corresponding to a pair of leasts (one for each action). Each list will then contain gains encountered after playing the given action in the given state."
   ]
  },
  {
   "cell_type": "code",
   "execution_count": 49,
   "id": "3aaa2dce-fac5-488a-93d0-2d8e387c4ae7",
   "metadata": {},
   "outputs": [],
   "source": [
    "GainsDict = dict[State, tuple[list[float], list[float]]]\n",
    "\n",
    "def create_gains_dict(experience: Experience)-> GainsDict:\n",
    "    \"\"\"Create gains dict from the given experience.\"\"\"\n",
    "    gains_dict = dict()\n",
    "    for s, a, g in experience:\n",
    "        action_gains = gains_dict.get(s, ([], []))\n",
    "        action_gains[a.value].append(g)\n",
    "        gains_dict[s] = action_gains\n",
    "    return gains_dict"
   ]
  },
  {
   "cell_type": "code",
   "execution_count": 50,
   "id": "0bb2bfcc-1c68-4046-b86d-252a872af062",
   "metadata": {},
   "outputs": [],
   "source": [
    "def evaluate_Q(experience: Experience) -> QDict:\n",
    "    \"\"\"Evaluate Q-function based on the given experience.\"\"\"\n",
    "    gains_dict = create_gains_dict(experience)\n",
    "\n",
    "    q_dict = dict()\n",
    "    for s, (gains_HIT, gains_HOLD) in gains_dict.items():\n",
    "        q_value_HIT = np.mean(gains_HIT) if gains_HIT else None\n",
    "        q_value_HOLD = np.mean(gains_HOLD) if gains_HOLD else None\n",
    "        q_dict[s] = (q_value_HIT, q_value_HOLD)\n",
    "    return q_dict"
   ]
  },
  {
   "cell_type": "markdown",
   "id": "9597c802-3fa5-4404-8314-a9977c928931",
   "metadata": {},
   "source": [
    "Let us now test the learning procedure. We start from an empty Q-dict (corresponding to the random policy), and play 10000 games in order to collect experience. Then, we use this experience to build a new Q-dict, and use it to construct a new, hopefully better policy!"
   ]
  },
  {
   "cell_type": "markdown",
   "id": "27dfaf25-395f-46ef-b616-9a7a3f32e9b2",
   "metadata": {},
   "source": [
    "### Testing Individual Iterations of the Learning Algorithm"
   ]
  },
  {
   "cell_type": "code",
   "execution_count": 51,
   "id": "a53a5d71-474c-4114-be2b-0a408f0cf080",
   "metadata": {},
   "outputs": [
    {
     "data": {
      "text/html": [
       "<pre style=\"white-space:pre;overflow-x:auto;line-height:normal;font-family:Menlo,'DejaVu Sans Mono',consolas,'Courier New',monospace\">total <span style=\"color: #808000; text-decoration-color: #808000\">score</span>=<span style=\"color: #008080; text-decoration-color: #008080; font-weight: bold\">-3371</span>/<span style=\"color: #008080; text-decoration-color: #008080; font-weight: bold\">10000</span> games <span style=\"font-weight: bold\">(</span><span style=\"color: #008080; text-decoration-color: #008080; font-weight: bold\">-0.3371</span> per game<span style=\"font-weight: bold\">)</span> :: W <span style=\"color: #008080; text-decoration-color: #008080; font-weight: bold\">31.40</span>% | D <span style=\"color: #008080; text-decoration-color: #008080; font-weight: bold\">3.49</span>% | L <span style=\"color: #008080; text-decoration-color: #008080; font-weight: bold\">65.11</span>%\n",
       "</pre>\n"
      ],
      "text/plain": [
       "total \u001b[33mscore\u001b[0m=\u001b[1;36m-3371\u001b[0m/\u001b[1;36m10000\u001b[0m games \u001b[1m(\u001b[0m\u001b[1;36m-0.3371\u001b[0m per game\u001b[1m)\u001b[0m :: W \u001b[1;36m31.40\u001b[0m% | D \u001b[1;36m3.49\u001b[0m% | L \u001b[1;36m65.11\u001b[0m%\n"
      ]
     },
     "metadata": {},
     "output_type": "display_data"
    }
   ],
   "source": [
    "# Iteration No #1\n",
    "q_dict = dict()\n",
    "policy = create_greedy_policy(q_dict)\n",
    "res, exp = apply_policy(policy, deck, 10000, gamma=0.9, random_init_state=True, random_init_action=True)\n",
    "print(res)"
   ]
  },
  {
   "cell_type": "code",
   "execution_count": 52,
   "id": "50f0896a-f759-4529-82e6-6d68bdf853a7",
   "metadata": {},
   "outputs": [
    {
     "data": {
      "text/html": [
       "<pre style=\"white-space:pre;overflow-x:auto;line-height:normal;font-family:Menlo,'DejaVu Sans Mono',consolas,'Courier New',monospace\">total <span style=\"color: #808000; text-decoration-color: #808000\">score</span>=<span style=\"color: #008080; text-decoration-color: #008080; font-weight: bold\">-2108</span>/<span style=\"color: #008080; text-decoration-color: #008080; font-weight: bold\">10000</span> games <span style=\"font-weight: bold\">(</span><span style=\"color: #008080; text-decoration-color: #008080; font-weight: bold\">-0.2108</span> per game<span style=\"font-weight: bold\">)</span> :: W <span style=\"color: #008080; text-decoration-color: #008080; font-weight: bold\">37.17</span>% | D <span style=\"color: #008080; text-decoration-color: #008080; font-weight: bold\">4.58</span>% | L <span style=\"color: #008080; text-decoration-color: #008080; font-weight: bold\">58.25</span>%\n",
       "</pre>\n"
      ],
      "text/plain": [
       "total \u001b[33mscore\u001b[0m=\u001b[1;36m-2108\u001b[0m/\u001b[1;36m10000\u001b[0m games \u001b[1m(\u001b[0m\u001b[1;36m-0.2108\u001b[0m per game\u001b[1m)\u001b[0m :: W \u001b[1;36m37.17\u001b[0m% | D \u001b[1;36m4.58\u001b[0m% | L \u001b[1;36m58.25\u001b[0m%\n"
      ]
     },
     "metadata": {},
     "output_type": "display_data"
    }
   ],
   "source": [
    "# Iteration No #2\n",
    "q_dict = evaluate_Q(exp)\n",
    "policy = create_greedy_policy(q_dict)\n",
    "res, exp = apply_policy(policy, deck, 10000, gamma=0.9, random_init_state=True, random_init_action=True)\n",
    "print(res)"
   ]
  },
  {
   "cell_type": "code",
   "execution_count": 53,
   "id": "8635baf6-6aab-41ea-8226-be57eaac1196",
   "metadata": {},
   "outputs": [
    {
     "data": {
      "text/plain": [
       "[((2, False, 2), (-0.31356, -0.42857142857142855)),\n",
       " ((2, False, 3), (0.033000000000000015, -0.3333333333333333)),\n",
       " ((2, False, 4), (-0.27496666666666664, -0.30434782608695654)),\n",
       " ((2, False, 5), (-0.43880500000000006, -0.058823529411764705)),\n",
       " ((2, False, 6), (-0.22162500000000004, 0.07692307692307693)),\n",
       " ((2, False, 7), (-0.36929032258064515, -0.6923076923076923)),\n",
       " ((2, False, 8), (-0.4773461538461539, -0.7241379310344828)),\n",
       " ((2, False, 9), (-0.4818375000000001, -0.5833333333333334)),\n",
       " ((2, False, 10), (-0.6695217391304348, -0.8095238095238095)),\n",
       " ((2, False, 11), (-0.5531785714285716, -0.6190476190476191)),\n",
       " ((3, False, 2), (-0.21037499999999998, -0.5833333333333334)),\n",
       " ((3, False, 3), (-0.3030428571428571, -0.15384615384615385)),\n",
       " ((3, False, 4), (-0.3358636363636364, 0.09090909090909091)),\n",
       " ((3, False, 5), (-0.255, -0.25925925925925924)),\n",
       " ((3, False, 6), (-0.1616142857142857, 0.21739130434782608)),\n",
       " ((3, False, 7), (-0.5412857142857143, -0.8260869565217391)),\n",
       " ((3, False, 8), (-0.5640000000000002, -0.6666666666666666)),\n",
       " ((3, False, 9), (-0.271715625, -0.8333333333333334)),\n",
       " ((3, False, 10), (-0.32430000000000003, -0.44)),\n",
       " ((3, False, 11), (-0.6564705882352943, -0.7241379310344828)),\n",
       " ((4, False, 2), (-0.27396, -0.3684210526315789)),\n",
       " ((4, False, 3), (-0.47700000000000004, -0.23076923076923078)),\n",
       " ((4, False, 4), (-0.33795000000000003, -0.28)),\n",
       " ((4, False, 5), (-0.43879655172413795, 0.1)),\n",
       " ((4, False, 6), (-0.16560000000000002, -0.42857142857142855)),\n",
       " ((4, False, 7), (-0.6120000000000001, -0.6129032258064516)),\n",
       " ((4, False, 8), (-0.27309374999999997, -0.4482758620689655)),\n",
       " ((4, False, 9), (-0.59472, -0.4117647058823529)),\n",
       " ((4, False, 10), (-0.7320000000000001, -0.5)),\n",
       " ((4, False, 11), (-0.6728823529411765, -0.76)),\n",
       " ((5, False, 2), (-0.34510344827586215, -0.4)),\n",
       " ((5, False, 3), (0.04382608695652174, -0.15384615384615385)),\n",
       " ((5, False, 4), (-0.3709090909090909, -0.2777777777777778)),\n",
       " ((5, False, 5), (-0.3264517241379311, -0.10344827586206896)),\n",
       " ((5, False, 6), (0.03690000000000001, -0.2)),\n",
       " ((5, False, 7), (-0.39168, -0.043478260869565216)),\n",
       " ((5, False, 8), (-0.39121875000000006, -0.4482758620689655)),\n",
       " ((5, False, 9), (-0.520875, -0.6521739130434783)),\n",
       " ((5, False, 10), (-0.45900000000000013, -0.8)),\n",
       " ((5, False, 11), (-0.57403125, -0.8888888888888888)),\n",
       " ((6, False, 2), (-0.60084, -0.0625)),\n",
       " ((6, False, 3), (-0.47730937500000004, -0.3939393939393939)),\n",
       " ((6, False, 4), (-0.3851379310344828, -0.07142857142857142)),\n",
       " ((6, False, 5), (-0.12366666666666663, -0.2727272727272727)),\n",
       " ((6, False, 6), (-0.4005000000000001, -0.03225806451612903)),\n",
       " ((6, False, 7), (-0.51156, -0.42857142857142855)),\n",
       " ((6, False, 8), (-0.6244137931034481, -0.52)),\n",
       " ((6, False, 9), (-0.6132162162162162, -0.3333333333333333)),\n",
       " ((6, False, 10), (-0.692690625, -0.6842105263157895)),\n",
       " ((6, False, 11), (-0.7203913043478261, -0.7777777777777778)),\n",
       " ((7, False, 2), (-0.21679090909090915, -0.26666666666666666)),\n",
       " ((7, False, 3), (-0.43275, -0.125)),\n",
       " ((7, False, 4), (-0.3080769230769231, 0.15151515151515152)),\n",
       " ((7, False, 5), (-0.1636071428571429, -0.034482758620689655)),\n",
       " ((7, False, 6), (-0.531, -0.11764705882352941)),\n",
       " ((7, False, 7), (-0.4836666666666667, -0.3333333333333333)),\n",
       " ((7, False, 8), (-0.5126625000000001, -0.5294117647058824)),\n",
       " ((7, False, 9), (-0.365625, -0.7142857142857143)),\n",
       " ((7, False, 10), (-0.39567857142857144, -0.6551724137931034)),\n",
       " ((7, False, 11), (-0.66909375, -0.9047619047619048)),\n",
       " ((8, False, 2), (-0.2953928571428572, -0.13513513513513514)),\n",
       " ((8, False, 3), (-0.18000000000000002, -0.35)),\n",
       " ((8, False, 4), (-0.24237931034482757, -0.2571428571428571)),\n",
       " ((8, False, 5), (-0.12997058823529412, -0.11764705882352941)),\n",
       " ((8, False, 6), (0.17441379310344826, -0.13043478260869565)),\n",
       " ((8, False, 7), (-0.48276, -0.3548387096774194)),\n",
       " ((8, False, 8), (-0.3395769230769231, -0.25925925925925924)),\n",
       " ((8, False, 9), (-0.50004, -0.48148148148148145)),\n",
       " ((8, False, 10), (-0.5405142857142856, -0.5555555555555556)),\n",
       " ((8, False, 11), (-0.45027272727272727, -0.7931034482758621)),\n",
       " ((9, False, 2), (-0.34153846153846157, -0.2903225806451613)),\n",
       " ((9, False, 3), (-0.27272727272727276, -0.24324324324324326)),\n",
       " ((9, False, 4), (-0.08228571428571427, -0.375)),\n",
       " ((9, False, 5), (-0.15778124999999998, -0.15384615384615385)),\n",
       " ((9, False, 6), (-0.45000000000000007, -0.25)),\n",
       " ((9, False, 7), (-0.3503333333333334, -0.5)),\n",
       " ((9, False, 8), (-0.3528, -0.4)),\n",
       " ((9, False, 9), (0.10124999999999997, -0.3953488372093023)),\n",
       " ((9, False, 10), (-0.8928, -0.23076923076923078)),\n",
       " ((9, False, 11), (-0.47368421052631576, -0.6666666666666666)),\n",
       " ((10, False, 2), (-0.44037931034482763, -0.1875)),\n",
       " ((10, False, 3), (-0.0071249999999999925, -0.2903225806451613)),\n",
       " ((10, False, 4), (-0.35700000000000004, -0.14285714285714285)),\n",
       " ((10, False, 5), (-0.39000000000000007, -0.07142857142857142)),\n",
       " ((10, False, 6), (0.027272727272727247, 0.04)),\n",
       " ((10, False, 7), (-0.3103448275862069, -0.6521739130434783)),\n",
       " ((10, False, 8), (-0.234, -0.8)),\n",
       " ((10, False, 9), (-0.1378125, -0.6296296296296297)),\n",
       " ((10, False, 10), (-0.6641379310344827, -0.6666666666666666)),\n",
       " ((10, False, 11), (-0.4572, -0.7333333333333333)),\n",
       " ((11, False, 2), (-0.135, -0.6521739130434783)),\n",
       " ((11, False, 3), (-0.008142857142857129, -0.36363636363636365)),\n",
       " ((11, False, 4), (-0.035217391304347825, -0.08333333333333333)),\n",
       " ((11, False, 5), (-0.38000000000000006, -0.18518518518518517)),\n",
       " ((11, False, 6), (-0.1794375, 0.05263157894736842)),\n",
       " ((11, False, 7), (-0.3323076923076923, -0.5)),\n",
       " ((11, False, 8), (-0.42157894736842105, -0.2)),\n",
       " ((11, False, 9), (-0.531, -0.23809523809523808)),\n",
       " ((11, False, 10), (-0.3758823529411765, -0.8823529411764706)),\n",
       " ((11, False, 11), (-0.24230769230769234, -0.8461538461538461)),\n",
       " ((11, True, 2), (0.030857142857142843, -0.45454545454545453)),\n",
       " ((11, True, 3), (0.13575, -0.2222222222222222)),\n",
       " ((11, True, 4), (-0.3362727272727273, -0.3333333333333333)),\n",
       " ((11, True, 5), (0.21021428571428571, -0.14285714285714285)),\n",
       " ((11, True, 6), (-0.19920000000000002, 0.0)),\n",
       " ((11, True, 7), (-0.2025, -0.4)),\n",
       " ((11, True, 8), (-0.23225999999999997, -0.6666666666666666)),\n",
       " ((11, True, 9), (-0.008999999999999996, 0.0)),\n",
       " ((11, True, 10), (-0.04223076923076925, -0.75)),\n",
       " ((11, True, 11), (0.099, -0.875)),\n",
       " ((12, False, 2), (-0.7171428571428571, -0.3333333333333333)),\n",
       " ((12, False, 3), (-0.49636363636363634, -0.2682926829268293)),\n",
       " ((12, False, 4), (-0.39166666666666666, -0.22580645161290322)),\n",
       " ((12, False, 5), (-0.16315789473684209, 0.058823529411764705)),\n",
       " ((12, False, 6), (-0.515, -0.03225806451612903)),\n",
       " ((12, False, 7), (-0.5969729729729729, -0.6756756756756757)),\n",
       " ((12, False, 8), (-0.3507948717948718, -0.4)),\n",
       " ((12, False, 9), (-0.8033333333333332, -0.6410256410256411)),\n",
       " ((12, False, 10), (-0.5793666666666667, -0.6111111111111112)),\n",
       " ((12, False, 11), (-0.7923684210526314, -0.5483870967741935)),\n",
       " ((12, True, 2), (-0.2652, -0.5294117647058824)),\n",
       " ((12, True, 3), (-0.07965, -0.07692307692307693)),\n",
       " ((12, True, 4), (-0.3960600000000001, -0.4666666666666667)),\n",
       " ((12, True, 5), (0.42750000000000005, -0.3333333333333333)),\n",
       " ((12, True, 6), (-0.35100000000000003, -0.3333333333333333)),\n",
       " ((12, True, 7), (-0.5985, -0.6666666666666666)),\n",
       " ((12, True, 8), (0.10125, -0.2857142857142857)),\n",
       " ((12, True, 9), (-0.6062727272727273, -0.8823529411764706)),\n",
       " ((12, True, 10), (-0.22499999999999998, -0.6666666666666666)),\n",
       " ((12, True, 11), (-0.26999999999999996, -1.0)),\n",
       " ((13, False, 2), (-0.5349999999999999, -0.05555555555555555)),\n",
       " ((13, False, 3), (-0.6818518518518517, -0.4782608695652174)),\n",
       " ((13, False, 4), (-0.6325581395348836, 0.0)),\n",
       " ((13, False, 5), (-0.553157894736842, -0.05263157894736842)),\n",
       " ((13, False, 6), (-0.2203448275862068, -0.037037037037037035)),\n",
       " ((13, False, 7), (-0.9430769230769229, -0.48717948717948717)),\n",
       " ((13, False, 8), (-0.7769999999999999, -0.5384615384615384)),\n",
       " ((13, False, 9), (-0.5366666666666666, -0.5789473684210527)),\n",
       " ((13, False, 10), (-0.7267567567567567, -0.6666666666666666)),\n",
       " ((13, False, 11), (-0.8420833333333334, -1.0)),\n",
       " ((13, True, 2), (-0.37, -0.3333333333333333)),\n",
       " ((13, True, 3), (-0.34684615384615386, -0.16666666666666666)),\n",
       " ((13, True, 4), (0.08922272727272725, -0.2)),\n",
       " ((13, True, 5), (0.1455, 0.0)),\n",
       " ((13, True, 6), (-0.3853636363636364, -0.05263157894736842)),\n",
       " ((13, True, 7), (-0.3844285714285714, -0.6923076923076923)),\n",
       " ((13, True, 8), (-0.14169375, -0.6842105263157895)),\n",
       " ((13, True, 9), (-0.2561538461538462, -0.75)),\n",
       " ((13, True, 10), (-0.17, -0.68)),\n",
       " ((13, True, 11), (-0.441, -0.6363636363636364)),\n",
       " ((14, False, 2), (-0.5153125, -0.4375)),\n",
       " ((14, False, 3), (-0.63, -0.2222222222222222)),\n",
       " ((14, False, 4), (-0.5707894736842105, -0.125)),\n",
       " ((14, False, 5), (-0.5114814814814814, -0.22580645161290322)),\n",
       " ((14, False, 6), (-0.4371875, 0.058823529411764705)),\n",
       " ((14, False, 7), (-0.7216216216216215, -0.5714285714285714)),\n",
       " ((14, False, 8), (-0.8265217391304347, -0.6)),\n",
       " ((14, False, 9), (-0.8256410256410255, -0.6097560975609756)),\n",
       " ((14, False, 10), (-0.6761904761904761, -0.5)),\n",
       " ((14, False, 11), (-0.4636842105263158, -0.84)),\n",
       " ((14, True, 2), (-0.3360000000000001, -0.2)),\n",
       " ((14, True, 3), (-0.174, 0.3333333333333333)),\n",
       " ((14, True, 4), (0.16290000000000004, -0.05263157894736842)),\n",
       " ((14, True, 5), (-0.6120000000000001, 0.16666666666666666)),\n",
       " ((14, True, 6), (-0.5563636363636365, -0.125)),\n",
       " ((14, True, 7), (-0.219375, -0.7142857142857143)),\n",
       " ((14, True, 8), (-0.05072727272727274, -0.7333333333333333)),\n",
       " ((14, True, 9), (-0.6230769230769232, -0.6190476190476191)),\n",
       " ((14, True, 10), (0.06923076923076922, -0.5)),\n",
       " ((14, True, 11), (-0.5644928571428572, -0.38461538461538464)),\n",
       " ((15, False, 2), (-0.6002571428571428, -0.29411764705882354)),\n",
       " ((15, False, 3), (-0.8923076923076921, 0.0)),\n",
       " ((15, False, 4), (-0.8466666666666666, -0.25)),\n",
       " ((15, False, 5), (-0.4777777777777778, -0.17073170731707318)),\n",
       " ((15, False, 6), (-0.5715217391304348, -0.0967741935483871)),\n",
       " ((15, False, 7), (-0.5655263157894735, -0.5151515151515151)),\n",
       " ((15, False, 8), (-0.6134210526315789, -0.6666666666666666)),\n",
       " ((15, False, 9), (-0.5583333333333332, -0.5757575757575758)),\n",
       " ((15, False, 10), (-0.8642424242424241, -0.5909090909090909)),\n",
       " ((15, False, 11), (-0.6702702702702702, -0.8888888888888888)),\n",
       " ((15, True, 2), (-0.4622142857142858, -0.42857142857142855)),\n",
       " ((15, True, 3), (0.0057857142857142985, 0.09090909090909091)),\n",
       " ((15, True, 4), (0.15749999999999997, -0.45454545454545453)),\n",
       " ((15, True, 5), (0.0560769230769231, -0.21739130434782608)),\n",
       " ((15, True, 6), (-0.49545000000000006, -0.5)),\n",
       " ((15, True, 7), (-0.29321052631578953, -0.5)),\n",
       " ((15, True, 8), (-0.21176470588235294, -0.5)),\n",
       " ((15, True, 9), (-0.5481818181818182, -0.8571428571428571)),\n",
       " ((15, True, 10), (-0.4620000000000001, -0.7142857142857143)),\n",
       " ((15, True, 11), (-0.526009090909091, -0.6842105263157895)),\n",
       " ((16, False, 2), (-0.7057142857142857, -0.42857142857142855)),\n",
       " ((16, False, 3), (-0.8392857142857143, -0.16666666666666666)),\n",
       " ((16, False, 4), (-0.6699999999999999, 0.10344827586206896)),\n",
       " ((16, False, 5), (-0.775, -0.37777777777777777)),\n",
       " ((16, False, 6), (-0.6590909090909091, -0.16129032258064516)),\n",
       " ((16, False, 7), (-0.7, -0.6551724137931034)),\n",
       " ((16, False, 8), (-0.8124242424242424, -0.38461538461538464)),\n",
       " ((16, False, 9), (-0.6885294117647058, -0.25925925925925924)),\n",
       " ((16, False, 10), (-0.8519354838709676, -0.4594594594594595)),\n",
       " ((16, False, 11), (-0.6125806451612904, -0.7391304347826086)),\n",
       " ((16, True, 2), (-0.44250000000000006, -0.7142857142857143)),\n",
       " ((16, True, 3), (-0.11076923076923079, -0.1111111111111111)),\n",
       " ((16, True, 4), (-0.06075, -0.5)),\n",
       " ((16, True, 5), (-0.34615384615384615, -0.2)),\n",
       " ((16, True, 6), (-0.1854, -0.29411764705882354)),\n",
       " ((16, True, 7), (-0.3950222727272728, -0.3333333333333333)),\n",
       " ((16, True, 8), (-0.4576153846153846, -0.625)),\n",
       " ((16, True, 9), (-0.4084615384615385, -0.2727272727272727)),\n",
       " ((16, True, 10), (-0.30195000000000005, -0.6)),\n",
       " ((16, True, 11), (-0.47495454545454546, -0.7333333333333333)),\n",
       " ((17, False, 2), (-0.6157692307692307, -0.24324324324324326)),\n",
       " ((17, False, 3), (-0.991891891891892, 0.03571428571428571)),\n",
       " ((17, False, 4), (-0.8394736842105263, -0.3103448275862069)),\n",
       " ((17, False, 5), (-0.7947368421052632, 0.047619047619047616)),\n",
       " ((17, False, 6), (-0.8238095238095239, 0.125)),\n",
       " ((17, False, 7), (-0.7513513513513513, -0.05555555555555555)),\n",
       " ((17, False, 8), (-0.7958333333333334, -0.575)),\n",
       " ((17, False, 9), (-0.6902380952380953, -0.6785714285714286)),\n",
       " ((17, False, 10), (-0.8711111111111112, -0.37142857142857144)),\n",
       " ((17, False, 11), (-0.6705882352941176, -0.6111111111111112)),\n",
       " ((17, True, 2), (-0.25650000000000006, 0.0)),\n",
       " ((17, True, 3), (-0.4090909090909091, 0.16666666666666666)),\n",
       " ((17, True, 4), (-0.45085714285714285, 0.0)),\n",
       " ((17, True, 5), (0.5, -0.08333333333333333)),\n",
       " ((17, True, 6), (0.26317058823529416, 0.0)),\n",
       " ((17, True, 7), (-0.08909999999999998, -0.25)),\n",
       " ((17, True, 8), (-0.5007857142857143, -0.16666666666666666)),\n",
       " ((17, True, 9), (-0.4729500000000001, -0.375)),\n",
       " ((17, True, 10), (-0.5925789473684212, -0.42105263157894735)),\n",
       " ((17, True, 11), (-0.5526818181818183, -0.75)),\n",
       " ((18, False, 2), (-0.5821428571428572, 0.1388888888888889)),\n",
       " ((18, False, 3), (-0.6, 0.28125)),\n",
       " ((18, False, 4), (-0.82, 0.13513513513513514)),\n",
       " ((18, False, 5), (-0.7425, 0.19444444444444445)),\n",
       " ((18, False, 6), (-0.8438461538461539, 0.46153846153846156)),\n",
       " ((18, False, 7), (-0.7611111111111111, 0.2)),\n",
       " ((18, False, 8), (-0.6791666666666667, -0.17391304347826086)),\n",
       " ((18, False, 9), (-0.6657142857142857, -0.17142857142857143)),\n",
       " ((18, False, 10), (-0.9151851851851851, -0.41304347826086957)),\n",
       " ((18, False, 11), (-0.906, -0.4166666666666667)),\n",
       " ((18, True, 2), (0.08142857142857145, 0.043478260869565216)),\n",
       " ((18, True, 3), (-0.126, 0.2857142857142857)),\n",
       " ((18, True, 4), (-0.582857142857143, 0.22727272727272727)),\n",
       " ((18, True, 5), (0.19894736842105262, -0.13333333333333333)),\n",
       " ((18, True, 6), (-0.19152000000000002, 0.42105263157894735)),\n",
       " ((18, True, 7), (-0.4368272727272728, 0.06666666666666667)),\n",
       " ((18, True, 8), (-0.126, -0.15)),\n",
       " ((18, True, 9), (-0.18359999999999999, -0.3)),\n",
       " ((18, True, 10), (-0.5604545454545455, 0.14285714285714285)),\n",
       " ((18, True, 11), (-0.555, -0.4444444444444444)),\n",
       " ((19, False, 2), (-0.8636666666666666, 0.5)),\n",
       " ((19, False, 3), (-0.8674999999999999, 0.6)),\n",
       " ((19, False, 4), (-0.7161290322580645, 0.25)),\n",
       " ((19, False, 5), (-0.7458333333333332, 0.3939393939393939)),\n",
       " ((19, False, 6), (-0.9044444444444445, 0.4827586206896552)),\n",
       " ((19, False, 7), (-0.8896551724137931, 0.5142857142857142)),\n",
       " ((19, False, 8), (-0.7487804878048779, 0.6666666666666666)),\n",
       " ((19, False, 9), (-0.87, 0.40625)),\n",
       " ((19, False, 10), (-0.9083333333333332, -0.25)),\n",
       " ((19, False, 11), (-0.8306060606060606, -0.04)),\n",
       " ((19, True, 2), (-0.225, 0.5238095238095238)),\n",
       " ((19, True, 3), (0.11, 0.5789473684210527)),\n",
       " ((19, True, 4), (-0.2025, -0.0625)),\n",
       " ((19, True, 5), (-0.5257894736842106, 0.5)),\n",
       " ((19, True, 6), (-0.252, 0.5384615384615384)),\n",
       " ((19, True, 7), (-0.13949999999999999, 0.5454545454545454)),\n",
       " ((19, True, 8), (-0.2647058823529412, 0.3888888888888889)),\n",
       " ((19, True, 9), (-0.388125, 0.42857142857142855)),\n",
       " ((19, True, 10), (-0.5434137931034484, -0.13043478260869565)),\n",
       " ((19, True, 11), (-0.4915384615384616, -0.1111111111111111)),\n",
       " ((20, False, 2), (-0.934375, 0.5)),\n",
       " ((20, False, 3), (-0.8555555555555556, 0.6060606060606061)),\n",
       " ((20, False, 4), (-0.8733333333333333, 0.5161290322580645)),\n",
       " ((20, False, 5), (-0.9387096774193548, 0.6060606060606061)),\n",
       " ((20, False, 6), (-0.9310344827586207, 0.75)),\n",
       " ((20, False, 7), (-0.8536585365853658, 0.7333333333333333)),\n",
       " ((20, False, 8), (-0.9941176470588234, 0.8636363636363636)),\n",
       " ((20, False, 9), (-0.9447368421052631, 0.7843137254901961)),\n",
       " ((20, False, 10), (-0.9393939393939394, 0.391304347826087)),\n",
       " ((20, False, 11), (-0.9303030303030303, 0.3333333333333333)),\n",
       " ((20, True, 2), (-0.3694736842105264, 0.6875)),\n",
       " ((20, True, 3), (-0.3190909090909091, 0.56)),\n",
       " ((20, True, 4), (-0.07772727272727273, 1.0)),\n",
       " ((20, True, 5), (-0.09562500000000002, 0.7272727272727273)),\n",
       " ((20, True, 6), (-0.36000000000000004, 0.6923076923076923)),\n",
       " ((20, True, 7), (-0.40454999999999997, 0.625)),\n",
       " ((20, True, 8), (-0.40049999999999997, 0.6666666666666666)),\n",
       " ((20, True, 9), (-0.150375, 0.6818181818181818)),\n",
       " ((20, True, 10), (-0.6364285714285715, 0.3333333333333333)),\n",
       " ((20, True, 11), (-0.716, -0.05)),\n",
       " ((21, False, 2), (-1.0, 0.9090909090909091)),\n",
       " ((21, False, 3), (-1.0, 0.967741935483871)),\n",
       " ((21, False, 4), (-1.0, 0.8484848484848485)),\n",
       " ((21, False, 5), (-1.0, 0.9142857142857143)),\n",
       " ((21, False, 6), (-1.0, 0.9583333333333334)),\n",
       " ((21, False, 7), (-1.0, 0.8666666666666667)),\n",
       " ((21, False, 8), (-1.0, 0.8484848484848485)),\n",
       " ((21, False, 9), (-1.0, 1.0)),\n",
       " ((21, False, 10), (-1.0, 0.8947368421052632)),\n",
       " ((21, False, 11), (-1.0, 0.6216216216216216)),\n",
       " ((21, True, 2), (-0.39000000000000007, 0.7916666666666666)),\n",
       " ((21, True, 3), (-0.20858620689655175, 1.0)),\n",
       " ((21, True, 4), (-0.21454545454545457, 0.9523809523809523)),\n",
       " ((21, True, 5), (-0.03137931034482759, 0.8333333333333334)),\n",
       " ((21, True, 6), (-0.40476190476190477, 0.88)),\n",
       " ((21, True, 7), (-0.41708333333333325, 1.0)),\n",
       " ((21, True, 8), (-0.19549999999999995, 0.8518518518518519)),\n",
       " ((21, True, 9), (-0.2625652173913044, 0.85)),\n",
       " ((21, True, 10), (-0.4383, 0.9523809523809523)),\n",
       " ((21, True, 11), (-0.645, 0.5357142857142857))]"
      ]
     },
     "execution_count": 53,
     "metadata": {},
     "output_type": "execute_result"
    }
   ],
   "source": [
    "sorted(q_dict.items(), key=lambda e: astuple(e[0]))"
   ]
  },
  {
   "cell_type": "markdown",
   "id": "5f1edcc8-4960-492a-bfae-de02112fe072",
   "metadata": {},
   "source": [
    "### Developing the Learning Loop"
   ]
  },
  {
   "cell_type": "markdown",
   "id": "425e5f60-39f3-4f6e-a9bb-c1c2f2e5d410",
   "metadata": {},
   "source": [
    "We see that the policy has indeed improved in this way. Hopefully, by repeating this procedure many times we will come (close) to the optimal policy."
   ]
  },
  {
   "cell_type": "code",
   "execution_count": 54,
   "id": "28f06618-89dd-4ba3-ade8-7db546695ece",
   "metadata": {},
   "outputs": [
    {
     "name": "stderr",
     "output_type": "stream",
     "text": [
      "100%|██████████| 40/40 [00:25<00:00,  1.57it/s]\n"
     ]
    },
    {
     "data": {
      "image/png": "[encoded data removed]",
      "text/plain": [
       "<Figure size 640x480 with 1 Axes>"
      ]
     },
     "metadata": {},
     "output_type": "display_data"
    }
   ],
   "source": [
    "q_dict = dict()\n",
    "results = []\n",
    "for k in trange(40):\n",
    "    policy = create_greedy_policy(q_dict)\n",
    "    res, exp = apply_policy(policy, deck, 10000, gamma=0.5, random_init_action=True, random_init_state=True)\n",
    "    results.append(res.loss_per_game())\n",
    "    q_dict = evaluate_Q(exp)\n",
    "plt.plot(results)\n",
    "plt.grid(True)"
   ]
  },
  {
   "cell_type": "code",
   "execution_count": 55,
   "id": "f953548c-8eb8-44fd-a5a3-b30e5c534733",
   "metadata": {},
   "outputs": [
    {
     "data": {
      "text/html": [
       "<pre style=\"white-space:pre;overflow-x:auto;line-height:normal;font-family:Menlo,'DejaVu Sans Mono',consolas,'Courier New',monospace\">total <span style=\"color: #808000; text-decoration-color: #808000\">score</span>=<span style=\"color: #008080; text-decoration-color: #008080; font-weight: bold\">-1070</span>/<span style=\"color: #008080; text-decoration-color: #008080; font-weight: bold\">10000</span> games <span style=\"font-weight: bold\">(</span><span style=\"color: #008080; text-decoration-color: #008080; font-weight: bold\">-0.1070</span> per game<span style=\"font-weight: bold\">)</span> :: W <span style=\"color: #008080; text-decoration-color: #008080; font-weight: bold\">40.78</span>% | D <span style=\"color: #008080; text-decoration-color: #008080; font-weight: bold\">7.74</span>% | L <span style=\"color: #008080; text-decoration-color: #008080; font-weight: bold\">51.48</span>%\n",
       "</pre>\n"
      ],
      "text/plain": [
       "total \u001b[33mscore\u001b[0m=\u001b[1;36m-1070\u001b[0m/\u001b[1;36m10000\u001b[0m games \u001b[1m(\u001b[0m\u001b[1;36m-0.1070\u001b[0m per game\u001b[1m)\u001b[0m :: W \u001b[1;36m40.78\u001b[0m% | D \u001b[1;36m7.74\u001b[0m% | L \u001b[1;36m51.48\u001b[0m%\n"
      ]
     },
     "metadata": {},
     "output_type": "display_data"
    }
   ],
   "source": [
    "res, _ = apply_policy(create_greedy_policy(q_dict), deck, 10000)\n",
    "print(res)"
   ]
  },
  {
   "cell_type": "code",
   "execution_count": 56,
   "id": "cbc4cdae-077b-4cf9-9363-1ee4cef618ff",
   "metadata": {},
   "outputs": [
    {
     "data": {
      "text/html": [
       "<pre style=\"white-space:pre;overflow-x:auto;line-height:normal;font-family:Menlo,'DejaVu Sans Mono',consolas,'Courier New',monospace\">total <span style=\"color: #808000; text-decoration-color: #808000\">score</span>=<span style=\"color: #008080; text-decoration-color: #008080; font-weight: bold\">-588</span>/<span style=\"color: #008080; text-decoration-color: #008080; font-weight: bold\">10000</span> games <span style=\"font-weight: bold\">(</span><span style=\"color: #008080; text-decoration-color: #008080; font-weight: bold\">-0.0588</span> per game<span style=\"font-weight: bold\">)</span> :: W <span style=\"color: #008080; text-decoration-color: #008080; font-weight: bold\">41.75</span>% | D <span style=\"color: #008080; text-decoration-color: #008080; font-weight: bold\">10.62</span>% | L <span style=\"color: #008080; text-decoration-color: #008080; font-weight: bold\">47.63</span>%\n",
       "</pre>\n"
      ],
      "text/plain": [
       "total \u001b[33mscore\u001b[0m=\u001b[1;36m-588\u001b[0m/\u001b[1;36m10000\u001b[0m games \u001b[1m(\u001b[0m\u001b[1;36m-0.0588\u001b[0m per game\u001b[1m)\u001b[0m :: W \u001b[1;36m41.75\u001b[0m% | D \u001b[1;36m10.62\u001b[0m% | L \u001b[1;36m47.63\u001b[0m%\n"
      ]
     },
     "metadata": {},
     "output_type": "display_data"
    }
   ],
   "source": [
    "res, _ = apply_policy(dealer_policy, deck, 10000)\n",
    "print(res)"
   ]
  },
  {
   "cell_type": "markdown",
   "id": "4ffcd3f9-5445-4c21-808d-62a77e98291e",
   "metadata": {},
   "source": [
    "It is also useful to track \"validation performance\" during training, and to store the policy that was shown to be best in the validation phase, and not the last computed policy!"
   ]
  },
  {
   "cell_type": "code",
   "execution_count": 57,
   "id": "bc21902c-11bb-4a80-b0d1-e0071883efc4",
   "metadata": {},
   "outputs": [
    {
     "name": "stderr",
     "output_type": "stream",
     "text": [
      "100%|██████████| 40/40 [00:51<00:00,  1.28s/it]\n"
     ]
    },
    {
     "data": {
      "image/png": "[encoded data removed]",
      "text/plain": [
       "<Figure size 640x480 with 1 Axes>"
      ]
     },
     "metadata": {},
     "output_type": "display_data"
    }
   ],
   "source": [
    "q_dict = dict()\n",
    "results = []\n",
    "results_val = []\n",
    "best_val_loss = None\n",
    "q_dict_best = None\n",
    "for k in trange(40):\n",
    "    policy = create_greedy_policy(q_dict)\n",
    "    res, exp = apply_policy(policy, deck, 10000, gamma=0.5, random_init_action=True, random_init_state=True)\n",
    "    res_val, _ = apply_policy(policy, deck, 10000)\n",
    "    results.append(res.loss_per_game())\n",
    "    results_val.append(res_val.loss_per_game())\n",
    "    if not best_val_loss or best_val_loss <  res_val.loss_per_game():\n",
    "        best_val_loss = res_val.loss_per_game()\n",
    "        q_dict_best = deepcopy(q_dict)\n",
    "    q_dict = evaluate_Q(exp)\n",
    "plt.plot(results)\n",
    "plt.plot(results_val)\n",
    "plt.grid(True)"
   ]
  },
  {
   "cell_type": "code",
   "execution_count": 58,
   "id": "3c8accce-e511-4961-a2b7-47f85eccab4b",
   "metadata": {},
   "outputs": [],
   "source": [
    "best_policy = create_greedy_policy(q_dict_best)"
   ]
  },
  {
   "cell_type": "code",
   "execution_count": 59,
   "id": "8b9c2fbf-463e-4010-a500-79335955366b",
   "metadata": {},
   "outputs": [
    {
     "data": {
      "text/html": [
       "<pre style=\"white-space:pre;overflow-x:auto;line-height:normal;font-family:Menlo,'DejaVu Sans Mono',consolas,'Courier New',monospace\">total <span style=\"color: #808000; text-decoration-color: #808000\">score</span>=<span style=\"color: #008080; text-decoration-color: #008080; font-weight: bold\">-1175</span>/<span style=\"color: #008080; text-decoration-color: #008080; font-weight: bold\">10000</span> games <span style=\"font-weight: bold\">(</span><span style=\"color: #008080; text-decoration-color: #008080; font-weight: bold\">-0.1175</span> per game<span style=\"font-weight: bold\">)</span> :: W <span style=\"color: #008080; text-decoration-color: #008080; font-weight: bold\">40.19</span>% | D <span style=\"color: #008080; text-decoration-color: #008080; font-weight: bold\">7.87</span>% | L <span style=\"color: #008080; text-decoration-color: #008080; font-weight: bold\">51.94</span>%\n",
       "</pre>\n"
      ],
      "text/plain": [
       "total \u001b[33mscore\u001b[0m=\u001b[1;36m-1175\u001b[0m/\u001b[1;36m10000\u001b[0m games \u001b[1m(\u001b[0m\u001b[1;36m-0.1175\u001b[0m per game\u001b[1m)\u001b[0m :: W \u001b[1;36m40.19\u001b[0m% | D \u001b[1;36m7.87\u001b[0m% | L \u001b[1;36m51.94\u001b[0m%\n"
      ]
     },
     "metadata": {},
     "output_type": "display_data"
    }
   ],
   "source": [
    "res, _ = apply_policy(best_policy, deck, 10000)\n",
    "print(res)"
   ]
  },
  {
   "cell_type": "markdown",
   "id": "de2c9651-b318-4f9f-9eaa-c12d53c6b1bb",
   "metadata": {},
   "source": [
    "## Visualizing the best policy"
   ]
  },
  {
   "cell_type": "markdown",
   "id": "73f1499e-8c9b-4625-b413-a0201618d43a",
   "metadata": {},
   "source": [
    "Let us now create a function which will enable us to visualize policies. The visualization will be very effective in understanding what a policy actually does!"
   ]
  },
  {
   "cell_type": "code",
   "execution_count": 60,
   "id": "f49a557f-ee79-4428-932e-d7a32a3980fe",
   "metadata": {},
   "outputs": [],
   "source": [
    "def visualize_policy(policy):\n",
    "    \"\"\"Visualize the policy.\n",
    "\n",
    "    The policy will be visualized using a colored greed.\n",
    "    The horizontal axis will correspond to the player total and the vertical axis to the\n",
    "    dealer's total.\n",
    "\n",
    "    If a cell is colored in red, it means that the action is HIT, regardless of existence of usable ACE.\n",
    "    If a cell is colored in blue, it means HOLD, regardless of existence of usable ACE.\n",
    "    Green cells are those in which HIT will be played only if there is a usable ACE.\n",
    "    Black cells are those in which HIT will be played only if there is no usable ACE.\n",
    "\n",
    "    Since the last case (play HIT if there is no usable ACE, and HOLD otherwise) seems counterintutive,\n",
    "    the color black is selected to distinguish it from other states.\n",
    "    \"\"\"\n",
    "    player_values = list(range(2, 21))\n",
    "    dealer_values = list(range(2, 12))\n",
    "    board = np.ones(shape=(len(dealer_values), len(player_values), 3), dtype=np.uint8)\n",
    "    for r, dv in enumerate(dealer_values):\n",
    "        for c, pv in enumerate(player_values):\n",
    "            if pv < 11:\n",
    "                action_t = policy(State(pv, False, dv)) == Action.HIT\n",
    "                if action_t:\n",
    "                    board[r, c, :] = (255, 0, 0)\n",
    "                else:\n",
    "                    board[r, c, :] = (0, 0, 255)\n",
    "            else:\n",
    "                action_t = policy(State(pv, True, dv)) == Action.HIT\n",
    "                action_f = policy(State(pv, False, dv)) == Action.HIT\n",
    "                if action_t and action_f:\n",
    "                    board[r, c, :] = (255, 0, 0)\n",
    "                elif action_t and not action_f:\n",
    "                    board[r, c, :] = (0, 255, 0)\n",
    "                elif not action_t and not action_f:\n",
    "                    board[r, c, :] = (0, 0, 255)\n",
    "                else:\n",
    "                    board[r, c, :] = (0, 0, 0)\n",
    "    plt.imshow(board, extent=[2, 21, 12, 2])\n",
    "    plt.xticks(np.arange(2.5, 21.5, 1), np.arange(2, 21, 1))\n",
    "    plt.yticks(np.arange(2.5, 12.5, 1), np.arange(2, 12, 1))\n",
    "    plt.xlabel(\"player total\")\n",
    "    plt.ylabel(\"dealer total\")"
   ]
  },
  {
   "cell_type": "markdown",
   "id": "d1c1cf0c-2ede-48c6-861d-e3fb68540f99",
   "metadata": {},
   "source": [
    "As expected, the dealer policy is very simple and clear!"
   ]
  },
  {
   "cell_type": "code",
   "execution_count": 61,
   "id": "94dc7472-1c49-499d-a6da-c04e38bb62ed",
   "metadata": {},
   "outputs": [
    {
     "data": {
      "image/png": "[encoded data removed]",
      "text/plain": [
       "<Figure size 640x480 with 1 Axes>"
      ]
     },
     "metadata": {},
     "output_type": "display_data"
    }
   ],
   "source": [
    "visualize_policy(dealer_policy)"
   ]
  },
  {
   "cell_type": "markdown",
   "id": "28f470e2-fe0e-4031-b8e7-673731720ea2",
   "metadata": {},
   "source": [
    "The random policy is very random :) Important thing to understand is that the image below will differ each time the line of code is invoked, because each time the policy will randomly choose one of the two possible actions for each state."
   ]
  },
  {
   "cell_type": "code",
   "execution_count": 62,
   "id": "b43b68f2-9782-4d5f-8830-07862371890b",
   "metadata": {},
   "outputs": [
    {
     "data": {
      "image/png": "[encoded data removed]",
      "text/plain": [
       "<Figure size 640x480 with 1 Axes>"
      ]
     },
     "metadata": {},
     "output_type": "display_data"
    }
   ],
   "source": [
    "visualize_policy(random_policy)"
   ]
  },
  {
   "cell_type": "markdown",
   "id": "394582f9-a9be-44ef-a015-8dba793ee961",
   "metadata": {},
   "source": [
    "Notice that there are no black or green fields for player total less than 11. In these cases, it is impossible for a player to have a usable ACE, so that a level of randomness is reduced.\n",
    "\n",
    "What about our \"best policy\" (which we hope to be nearly optimal)?"
   ]
  },
  {
   "cell_type": "code",
   "execution_count": 63,
   "id": "49921e70-fcac-4aca-83c1-dcbaa9857e48",
   "metadata": {},
   "outputs": [
    {
     "data": {
      "image/png": "[encoded data removed]",
      "text/plain": [
       "<Figure size 640x480 with 1 Axes>"
      ]
     },
     "metadata": {},
     "output_type": "display_data"
    }
   ],
   "source": [
    "visualize_policy(best_policy)"
   ]
  },
  {
   "cell_type": "markdown",
   "id": "8f4fbe3c-bec3-4ea1-8664-c4032ec15294",
   "metadata": {},
   "source": [
    "Well, the black fields should not be there. Also the green islands in the seas of red (and vice versa) are also suspicious if present. The policy seems reasonable, but it also seems too erratic. Compare this visualization with the simplicity of the dealer's policy. We need to do better. **We need to train better...** "
   ]
  },
  {
   "cell_type": "markdown",
   "id": "e39ccf42-9c5d-4711-aa6c-5d06aec9334e",
   "metadata": {},
   "source": [
    "## Incremental Learning"
   ]
  },
  {
   "cell_type": "markdown",
   "id": "17e493d9-3194-4f2e-8f8a-080debb3b326",
   "metadata": {},
   "source": [
    "A **big problem** with _\"naive\"_ Monte Carlo approaches, as the one used until now is that -- as soon as we collect new experience and update the policy -- we essentially discard and forget all that has been learned before. All previous experience is essentially wasted, and we are hoping that each inter-update epoch will be rich enough."
   ]
  },
  {
   "cell_type": "markdown",
   "id": "e5cbe8a0-2b50-432a-8fbf-044eb0d30d6a",
   "metadata": {},
   "source": [
    "What we would like instead is that we accumulate new knowledge along the way and to update our existing assesments of the Q-values. In order to do so, let us first implement a function that updates an existing estimate of a state-action value given a new gain value attained starting from the given state and applying the given initial action."
   ]
  },
  {
   "cell_type": "code",
   "execution_count": 64,
   "id": "f21d1b6a-60b9-4953-8361-e15281020e82",
   "metadata": {},
   "outputs": [],
   "source": [
    "def update_q_value(current: float, target: float, alpha: float) -> float:\n",
    "    \"\"\"Update the given current estimate given the new target.\n",
    "    \n",
    "    Args:\n",
    "        current (float): existing estimate\n",
    "        target (float): the given target\n",
    "        alpha (float): learning rate\n",
    "\n",
    "    Return:\n",
    "        float: the new, updated estimate\n",
    "    \"\"\"\n",
    "    if current is not None and target is not None:\n",
    "        return current + alpha * (target - current)\n",
    "    elif current is None:\n",
    "        return target\n",
    "    elif target is None:\n",
    "        return current\n",
    "    else:\n",
    "        return None"
   ]
  },
  {
   "cell_type": "markdown",
   "id": "46a51387-d03a-4b5f-b097-3a43a5554ebd",
   "metadata": {},
   "source": [
    "Now, we can implement a function that will update the entire `q_dict`, given the a new experience."
   ]
  },
  {
   "cell_type": "code",
   "execution_count": 65,
   "id": "8bed7efd-5883-4f84-84ba-a1022c241659",
   "metadata": {},
   "outputs": [],
   "source": [
    "def update_Q(q_dict: QDict, experience: Experience, alpha=0.1):\n",
    "    \"\"\"Update Q-function based on the given experience.\"\"\"\n",
    "    gains_dict = create_gains_dict(experience)\n",
    "\n",
    "    for s, (gains_HIT, gains_HOLD) in gains_dict.items():\n",
    "        target_value_HIT = np.mean(gains_HIT) if gains_HIT else None\n",
    "        target_value_HOLD = np.mean(gains_HOLD) if gains_HOLD else None\n",
    "        old_value_HIT, old_value_HOLD = q_dict.get(s, (None, None))\n",
    "        q_value_HIT = update_q_value(old_value_HIT, target_value_HIT, alpha)\n",
    "        q_value_HOLD = update_q_value(old_value_HOLD, target_value_HOLD, alpha)\n",
    "        q_dict[s] = (q_value_HIT, q_value_HOLD)\n",
    "\n",
    "    return q_dict"
   ]
  },
  {
   "cell_type": "markdown",
   "id": "de036123-af05-4724-97cd-a70ca0150395",
   "metadata": {},
   "source": [
    "Now, we are finally in position to re-write the learning loop in an incremental form..."
   ]
  },
  {
   "cell_type": "code",
   "execution_count": 66,
   "id": "10a80c0c-7f0c-4982-b146-71b9c84fb2bb",
   "metadata": {},
   "outputs": [
    {
     "name": "stderr",
     "output_type": "stream",
     "text": [
      "  0%|          | 0/100 [00:00<?, ?it/s]"
     ]
    },
    {
     "name": "stderr",
     "output_type": "stream",
     "text": [
      "100%|██████████| 100/100 [02:08<00:00,  1.29s/it]\n"
     ]
    },
    {
     "data": {
      "image/png": "[encoded data removed]",
      "text/plain": [
       "<Figure size 640x480 with 1 Axes>"
      ]
     },
     "metadata": {},
     "output_type": "display_data"
    }
   ],
   "source": [
    "q_dict = dict()\n",
    "results = []\n",
    "results_val = []\n",
    "best_val_loss = None\n",
    "q_dict_best = None\n",
    "alpha = 0.02\n",
    "for k in trange(100):\n",
    "    policy = create_greedy_policy(q_dict)\n",
    "    res, exp = apply_policy(policy, deck, 10000, gamma=0.5, random_init_action=True, random_init_state=True)\n",
    "    res_val, _ = apply_policy(policy, deck, 10000)\n",
    "    results.append(res.loss_per_game())\n",
    "    results_val.append(res_val.loss_per_game())\n",
    "    if not best_val_loss or best_val_loss <  res_val.loss_per_game():\n",
    "        best_val_loss = res_val.loss_per_game()\n",
    "        q_dict_best = deepcopy(q_dict)\n",
    "    update_Q(q_dict, exp, alpha)\n",
    "plt.plot(results)\n",
    "plt.plot(results_val)\n",
    "plt.grid(True)"
   ]
  },
  {
   "cell_type": "markdown",
   "id": "3a4e1251-987e-441b-8288-e610127901c7",
   "metadata": {},
   "source": [
    "We use more iterations because we can now reuse the previous knowledge, so it does not seem wastefull to use more iterations. Let us test and visualize the policy again..."
   ]
  },
  {
   "cell_type": "code",
   "execution_count": 67,
   "id": "7f5458ec-1c80-4af2-89ed-a548def8fcce",
   "metadata": {},
   "outputs": [],
   "source": [
    "best_policy = create_greedy_policy(q_dict_best)"
   ]
  },
  {
   "cell_type": "code",
   "execution_count": 68,
   "id": "74d9f526-5540-47e6-ab49-0dbbb3930bc4",
   "metadata": {},
   "outputs": [
    {
     "data": {
      "text/html": [
       "<pre style=\"white-space:pre;overflow-x:auto;line-height:normal;font-family:Menlo,'DejaVu Sans Mono',consolas,'Courier New',monospace\">total <span style=\"color: #808000; text-decoration-color: #808000\">score</span>=<span style=\"color: #008080; text-decoration-color: #008080; font-weight: bold\">-878</span>/<span style=\"color: #008080; text-decoration-color: #008080; font-weight: bold\">10000</span> games <span style=\"font-weight: bold\">(</span><span style=\"color: #008080; text-decoration-color: #008080; font-weight: bold\">-0.0878</span> per game<span style=\"font-weight: bold\">)</span> :: W <span style=\"color: #008080; text-decoration-color: #008080; font-weight: bold\">41.54</span>% | D <span style=\"color: #008080; text-decoration-color: #008080; font-weight: bold\">8.14</span>% | L <span style=\"color: #008080; text-decoration-color: #008080; font-weight: bold\">50.32</span>%\n",
       "</pre>\n"
      ],
      "text/plain": [
       "total \u001b[33mscore\u001b[0m=\u001b[1;36m-878\u001b[0m/\u001b[1;36m10000\u001b[0m games \u001b[1m(\u001b[0m\u001b[1;36m-0.0878\u001b[0m per game\u001b[1m)\u001b[0m :: W \u001b[1;36m41.54\u001b[0m% | D \u001b[1;36m8.14\u001b[0m% | L \u001b[1;36m50.32\u001b[0m%\n"
      ]
     },
     "metadata": {},
     "output_type": "display_data"
    }
   ],
   "source": [
    "res, _ = apply_policy(best_policy, deck, 10000)\n",
    "print(res)"
   ]
  },
  {
   "cell_type": "code",
   "execution_count": 69,
   "id": "58d950c5-9cb9-40f0-963b-7fed14df6624",
   "metadata": {},
   "outputs": [
    {
     "data": {
      "image/png": "[encoded data removed]",
      "text/plain": [
       "<Figure size 640x480 with 1 Axes>"
      ]
     },
     "metadata": {},
     "output_type": "display_data"
    }
   ],
   "source": [
    "visualize_policy(best_policy)"
   ]
  },
  {
   "cell_type": "markdown",
   "id": "7ac8e66e-5d2c-4693-a370-2e8712e05796",
   "metadata": {},
   "source": [
    "This is much more reasonable! Perhaps we can do a bit better by concentrating all our learning efforts to the narrow streak of the state-space in which there is still some ambiguity. This, however, is left to the reader for further excercise."
   ]
  },
  {
   "cell_type": "markdown",
   "id": "603e83ee-be24-4081-9e7c-2b48d8bd3a36",
   "metadata": {},
   "source": [
    "**Notice that this policy outperforms the policy of the dealer, but still results in loss of money!**"
   ]
  },
  {
   "cell_type": "markdown",
   "id": "68516317-b596-4e91-8d3b-53d86cbcaaad",
   "metadata": {},
   "source": [
    "## Assignments for Individual Work"
   ]
  },
  {
   "cell_type": "markdown",
   "id": "0016e23c-8f01-49d1-a4e5-19c55f78a4ce",
   "metadata": {},
   "source": [
    "### Level 1"
   ]
  },
  {
   "cell_type": "markdown",
   "id": "15328090-6143-4a37-ba05-9d9b0d66b7d1",
   "metadata": {},
   "source": [
    "Repeat the functionality of this notebook using more realistic Blackjack rules. For example, in the actual game of Blackjack each player immediately gets two cards (however, only one of the dealer's cards is known to the player, before the player finishes his/hers turn)."
   ]
  },
  {
   "cell_type": "markdown",
   "id": "a53df4a0-21f0-4a06-a3c5-5e65639cc934",
   "metadata": {},
   "source": [
    "### Level 2"
   ]
  },
  {
   "cell_type": "markdown",
   "id": "47149069-95db-4d88-83f1-8a4774f333dd",
   "metadata": {},
   "source": [
    "Make the dealer a learning agent also. Repeat the functionality of this notebook (leave the rules the same) by making the dealer's strategy learnable. Train both the player and the dealer by making them play againsta one another (adversarial learning). What is the optimal policy of the dealer? How does it compare to the current one?"
   ]
  },
  {
   "cell_type": "markdown",
   "id": "f5a1b4d1-428b-4a2d-bbe4-89ca3cc2cf7c",
   "metadata": {},
   "source": [
    "### Level 3"
   ]
  },
  {
   "cell_type": "markdown",
   "id": "288c4e6e-ca7c-41f8-9329-a4c85a86d52a",
   "metadata": {},
   "source": [
    "Make the game symmetric in the following way: Instead of the Player and the Dealer, let us talk about Player 1 and Player 2. \n",
    "\n",
    "Each game consists of two rounds, in the first round Player 1 plays first and in the second round Player 2 plays first. \n",
    "\n",
    "Each round is a single game of blackjack with one card handled to each player and one common card drawn (so that each player forms the initial sum from two cards, with one card being shared by both players). Each player plays (chooses HIT or HOLD) in each turn. If one of the players becomes busted, or if one of the player chooses HOLD, the other player continues drawing cards until he/she is also busted or chooses HOLD. At the end, the player with highest sum less than 21 wins the round.\n",
    "\n",
    "Upon completion of the round, each player receives +1, 0, or -1, depending on the outcome. The total outgome of one game is the sum of outcomes of the two rounds."
   ]
  },
  {
   "cell_type": "markdown",
   "id": "b924396d-e487-4deb-89ca-20be00eb176f",
   "metadata": {},
   "source": [
    "## Project for Individual Work"
   ]
  },
  {
   "cell_type": "markdown",
   "id": "c32d6bb1-dd42-4149-a175-c7db876edbec",
   "metadata": {},
   "source": [
    "Implement the game in its more realistic form: with betting and other allowed actions besides HIT and HOLD. For the actual rules, see https://en.wikipedia.org/wiki/Blackjack"
   ]
  },
  {
   "cell_type": "code",
   "execution_count": null,
   "id": "1db06b99-e9f9-43eb-bc35-a3b237f1efca",
   "metadata": {},
   "outputs": [],
   "source": []
  }
 ],
 "metadata": {
  "kernelspec": {
   "display_name": "Python 3 (ipykernel)",
   "language": "python",
   "name": "python3"
  },
  "language_info": {
   "codemirror_mode": {
    "name": "ipython",
    "version": 3
   },
   "file_extension": ".py",
   "mimetype": "text/x-python",
   "name": "python",
   "nbconvert_exporter": "python",
   "pygments_lexer": "ipython3",
   "version": "3.11.3"
  }
 },
 "nbformat": 4,
 "nbformat_minor": 5
}
